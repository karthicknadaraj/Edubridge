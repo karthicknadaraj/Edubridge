{
 "cells": [
  {
   "cell_type": "code",
   "execution_count": 9,
   "id": "9b873c89",
   "metadata": {},
   "outputs": [
    {
     "name": "stdout",
     "output_type": "stream",
     "text": [
      "Requirement already satisfied: qrcode in e:\\anaconda\\lib\\site-packages (7.3)Note: you may need to restart the kernel to use updated packages.\n",
      "\n",
      "Requirement already satisfied: colorama in e:\\anaconda\\lib\\site-packages (from qrcode) (0.4.4)\n"
     ]
    }
   ],
   "source": [
    "pip install qrcode"
   ]
  },
  {
   "cell_type": "code",
   "execution_count": 10,
   "id": "548b3140",
   "metadata": {},
   "outputs": [],
   "source": [
    "import qrcode"
   ]
  },
  {
   "cell_type": "code",
   "execution_count": 11,
   "id": "55e6a52f",
   "metadata": {},
   "outputs": [],
   "source": [
    "image=qrcode.make(\"https://github.com/karthicknadaraj/karthicknadaraj\")"
   ]
  },
  {
   "cell_type": "code",
   "execution_count": 12,
   "id": "93b954cb",
   "metadata": {},
   "outputs": [],
   "source": [
    "image.save(\"MyGithubQR.jpeg\")"
   ]
  },
  {
   "cell_type": "code",
   "execution_count": null,
   "id": "e27a4ed9",
   "metadata": {},
   "outputs": [],
   "source": []
  }
 ],
 "metadata": {
  "kernelspec": {
   "display_name": "Python 3",
   "language": "python",
   "name": "python3"
  },
  "language_info": {
   "codemirror_mode": {
    "name": "ipython",
    "version": 3
   },
   "file_extension": ".py",
   "mimetype": "text/x-python",
   "name": "python",
   "nbconvert_exporter": "python",
   "pygments_lexer": "ipython3",
   "version": "3.8.8"
  }
 },
 "nbformat": 4,
 "nbformat_minor": 5
}
