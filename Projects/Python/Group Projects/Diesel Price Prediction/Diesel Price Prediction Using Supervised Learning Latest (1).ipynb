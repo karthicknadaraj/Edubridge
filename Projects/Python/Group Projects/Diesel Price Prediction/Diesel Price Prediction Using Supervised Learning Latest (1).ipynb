{
 "cells": [
  {
   "cell_type": "markdown",
   "metadata": {},
   "source": [
    "### Import libraries "
   ]
  },
  {
   "cell_type": "code",
   "execution_count": 1,
   "metadata": {},
   "outputs": [],
   "source": [
    "import pandas as pd\n",
    "import numpy as np\n",
    "import matplotlib.pyplot as plt\n",
    "import seaborn as sns\n",
    "from sklearn.model_selection import train_test_split\n",
    "from sklearn.linear_model import LinearRegression\n",
    "from sklearn.metrics import mean_absolute_error\n",
    "import warnings\n",
    "warnings.filterwarnings('ignore')"
   ]
  },
  {
   "cell_type": "markdown",
   "metadata": {},
   "source": [
    "### Reading and viewing data "
   ]
  },
  {
   "cell_type": "code",
   "execution_count": 4,
   "metadata": {},
   "outputs": [
    {
     "data": {
      "text/html": [
       "<div>\n",
       "<style scoped>\n",
       "    .dataframe tbody tr th:only-of-type {\n",
       "        vertical-align: middle;\n",
       "    }\n",
       "\n",
       "    .dataframe tbody tr th {\n",
       "        vertical-align: top;\n",
       "    }\n",
       "\n",
       "    .dataframe thead th {\n",
       "        text-align: right;\n",
       "    }\n",
       "</style>\n",
       "<table border=\"1\" class=\"dataframe\">\n",
       "  <thead>\n",
       "    <tr style=\"text-align: right;\">\n",
       "      <th></th>\n",
       "      <th>city</th>\n",
       "      <th>date</th>\n",
       "      <th>rate</th>\n",
       "      <th>state</th>\n",
       "    </tr>\n",
       "  </thead>\n",
       "  <tbody>\n",
       "    <tr>\n",
       "      <th>0</th>\n",
       "      <td>Agartala</td>\n",
       "      <td>2012-10-27</td>\n",
       "      <td>46.93</td>\n",
       "      <td>Tripura</td>\n",
       "    </tr>\n",
       "    <tr>\n",
       "      <th>1</th>\n",
       "      <td>Agartala</td>\n",
       "      <td>2013-01-18</td>\n",
       "      <td>47.45</td>\n",
       "      <td>Tripura</td>\n",
       "    </tr>\n",
       "    <tr>\n",
       "      <th>2</th>\n",
       "      <td>Agartala</td>\n",
       "      <td>2013-02-16</td>\n",
       "      <td>47.96</td>\n",
       "      <td>Tripura</td>\n",
       "    </tr>\n",
       "    <tr>\n",
       "      <th>3</th>\n",
       "      <td>Agartala</td>\n",
       "      <td>2013-03-23</td>\n",
       "      <td>47.46</td>\n",
       "      <td>Tripura</td>\n",
       "    </tr>\n",
       "    <tr>\n",
       "      <th>4</th>\n",
       "      <td>Agartala</td>\n",
       "      <td>2013-04-01</td>\n",
       "      <td>48.47</td>\n",
       "      <td>Tripura</td>\n",
       "    </tr>\n",
       "    <tr>\n",
       "      <th>...</th>\n",
       "      <td>...</td>\n",
       "      <td>...</td>\n",
       "      <td>...</td>\n",
       "      <td>...</td>\n",
       "    </tr>\n",
       "    <tr>\n",
       "      <th>17230</th>\n",
       "      <td>Varanasi</td>\n",
       "      <td>2020-12-27</td>\n",
       "      <td>74.84</td>\n",
       "      <td>Uttar Pradesh</td>\n",
       "    </tr>\n",
       "    <tr>\n",
       "      <th>17231</th>\n",
       "      <td>Varanasi</td>\n",
       "      <td>2020-12-28</td>\n",
       "      <td>74.84</td>\n",
       "      <td>Uttar Pradesh</td>\n",
       "    </tr>\n",
       "    <tr>\n",
       "      <th>17232</th>\n",
       "      <td>Varanasi</td>\n",
       "      <td>2020-12-29</td>\n",
       "      <td>74.84</td>\n",
       "      <td>Uttar Pradesh</td>\n",
       "    </tr>\n",
       "    <tr>\n",
       "      <th>17233</th>\n",
       "      <td>Varanasi</td>\n",
       "      <td>2020-12-30</td>\n",
       "      <td>74.84</td>\n",
       "      <td>Uttar Pradesh</td>\n",
       "    </tr>\n",
       "    <tr>\n",
       "      <th>17234</th>\n",
       "      <td>Varanasi</td>\n",
       "      <td>2020-12-31</td>\n",
       "      <td>74.84</td>\n",
       "      <td>Uttar Pradesh</td>\n",
       "    </tr>\n",
       "  </tbody>\n",
       "</table>\n",
       "<p>17235 rows × 4 columns</p>\n",
       "</div>"
      ],
      "text/plain": [
       "           city        date   rate          state\n",
       "0      Agartala  2012-10-27  46.93        Tripura\n",
       "1      Agartala  2013-01-18  47.45        Tripura\n",
       "2      Agartala  2013-02-16  47.96        Tripura\n",
       "3      Agartala  2013-03-23  47.46        Tripura\n",
       "4      Agartala  2013-04-01  48.47        Tripura\n",
       "...         ...         ...    ...            ...\n",
       "17230  Varanasi  2020-12-27  74.84  Uttar Pradesh\n",
       "17231  Varanasi  2020-12-28  74.84  Uttar Pradesh\n",
       "17232  Varanasi  2020-12-29  74.84  Uttar Pradesh\n",
       "17233  Varanasi  2020-12-30  74.84  Uttar Pradesh\n",
       "17234  Varanasi  2020-12-31  74.84  Uttar Pradesh\n",
       "\n",
       "[17235 rows x 4 columns]"
      ]
     },
     "execution_count": 4,
     "metadata": {},
     "output_type": "execute_result"
    }
   ],
   "source": [
    "d=pd.read_csv(\"diesel.csv\")\n",
    "d"
   ]
  },
  {
   "cell_type": "markdown",
   "metadata": {},
   "source": [
    "### Print top 5 rows "
   ]
  },
  {
   "cell_type": "code",
   "execution_count": 5,
   "metadata": {},
   "outputs": [
    {
     "data": {
      "text/html": [
       "<div>\n",
       "<style scoped>\n",
       "    .dataframe tbody tr th:only-of-type {\n",
       "        vertical-align: middle;\n",
       "    }\n",
       "\n",
       "    .dataframe tbody tr th {\n",
       "        vertical-align: top;\n",
       "    }\n",
       "\n",
       "    .dataframe thead th {\n",
       "        text-align: right;\n",
       "    }\n",
       "</style>\n",
       "<table border=\"1\" class=\"dataframe\">\n",
       "  <thead>\n",
       "    <tr style=\"text-align: right;\">\n",
       "      <th></th>\n",
       "      <th>city</th>\n",
       "      <th>date</th>\n",
       "      <th>rate</th>\n",
       "      <th>state</th>\n",
       "    </tr>\n",
       "  </thead>\n",
       "  <tbody>\n",
       "    <tr>\n",
       "      <th>0</th>\n",
       "      <td>Agartala</td>\n",
       "      <td>2012-10-27</td>\n",
       "      <td>46.93</td>\n",
       "      <td>Tripura</td>\n",
       "    </tr>\n",
       "    <tr>\n",
       "      <th>1</th>\n",
       "      <td>Agartala</td>\n",
       "      <td>2013-01-18</td>\n",
       "      <td>47.45</td>\n",
       "      <td>Tripura</td>\n",
       "    </tr>\n",
       "    <tr>\n",
       "      <th>2</th>\n",
       "      <td>Agartala</td>\n",
       "      <td>2013-02-16</td>\n",
       "      <td>47.96</td>\n",
       "      <td>Tripura</td>\n",
       "    </tr>\n",
       "    <tr>\n",
       "      <th>3</th>\n",
       "      <td>Agartala</td>\n",
       "      <td>2013-03-23</td>\n",
       "      <td>47.46</td>\n",
       "      <td>Tripura</td>\n",
       "    </tr>\n",
       "    <tr>\n",
       "      <th>4</th>\n",
       "      <td>Agartala</td>\n",
       "      <td>2013-04-01</td>\n",
       "      <td>48.47</td>\n",
       "      <td>Tripura</td>\n",
       "    </tr>\n",
       "  </tbody>\n",
       "</table>\n",
       "</div>"
      ],
      "text/plain": [
       "       city        date   rate    state\n",
       "0  Agartala  2012-10-27  46.93  Tripura\n",
       "1  Agartala  2013-01-18  47.45  Tripura\n",
       "2  Agartala  2013-02-16  47.96  Tripura\n",
       "3  Agartala  2013-03-23  47.46  Tripura\n",
       "4  Agartala  2013-04-01  48.47  Tripura"
      ]
     },
     "execution_count": 5,
     "metadata": {},
     "output_type": "execute_result"
    }
   ],
   "source": [
    "d.head()"
   ]
  },
  {
   "cell_type": "markdown",
   "metadata": {},
   "source": [
    "### Bottom 5 rows"
   ]
  },
  {
   "cell_type": "code",
   "execution_count": 6,
   "metadata": {},
   "outputs": [
    {
     "data": {
      "text/html": [
       "<div>\n",
       "<style scoped>\n",
       "    .dataframe tbody tr th:only-of-type {\n",
       "        vertical-align: middle;\n",
       "    }\n",
       "\n",
       "    .dataframe tbody tr th {\n",
       "        vertical-align: top;\n",
       "    }\n",
       "\n",
       "    .dataframe thead th {\n",
       "        text-align: right;\n",
       "    }\n",
       "</style>\n",
       "<table border=\"1\" class=\"dataframe\">\n",
       "  <thead>\n",
       "    <tr style=\"text-align: right;\">\n",
       "      <th></th>\n",
       "      <th>city</th>\n",
       "      <th>date</th>\n",
       "      <th>rate</th>\n",
       "      <th>state</th>\n",
       "    </tr>\n",
       "  </thead>\n",
       "  <tbody>\n",
       "    <tr>\n",
       "      <th>17230</th>\n",
       "      <td>Varanasi</td>\n",
       "      <td>2020-12-27</td>\n",
       "      <td>74.84</td>\n",
       "      <td>Uttar Pradesh</td>\n",
       "    </tr>\n",
       "    <tr>\n",
       "      <th>17231</th>\n",
       "      <td>Varanasi</td>\n",
       "      <td>2020-12-28</td>\n",
       "      <td>74.84</td>\n",
       "      <td>Uttar Pradesh</td>\n",
       "    </tr>\n",
       "    <tr>\n",
       "      <th>17232</th>\n",
       "      <td>Varanasi</td>\n",
       "      <td>2020-12-29</td>\n",
       "      <td>74.84</td>\n",
       "      <td>Uttar Pradesh</td>\n",
       "    </tr>\n",
       "    <tr>\n",
       "      <th>17233</th>\n",
       "      <td>Varanasi</td>\n",
       "      <td>2020-12-30</td>\n",
       "      <td>74.84</td>\n",
       "      <td>Uttar Pradesh</td>\n",
       "    </tr>\n",
       "    <tr>\n",
       "      <th>17234</th>\n",
       "      <td>Varanasi</td>\n",
       "      <td>2020-12-31</td>\n",
       "      <td>74.84</td>\n",
       "      <td>Uttar Pradesh</td>\n",
       "    </tr>\n",
       "  </tbody>\n",
       "</table>\n",
       "</div>"
      ],
      "text/plain": [
       "           city        date   rate          state\n",
       "17230  Varanasi  2020-12-27  74.84  Uttar Pradesh\n",
       "17231  Varanasi  2020-12-28  74.84  Uttar Pradesh\n",
       "17232  Varanasi  2020-12-29  74.84  Uttar Pradesh\n",
       "17233  Varanasi  2020-12-30  74.84  Uttar Pradesh\n",
       "17234  Varanasi  2020-12-31  74.84  Uttar Pradesh"
      ]
     },
     "execution_count": 6,
     "metadata": {},
     "output_type": "execute_result"
    }
   ],
   "source": [
    "d.tail()"
   ]
  },
  {
   "cell_type": "markdown",
   "metadata": {},
   "source": [
    "### Checking data types "
   ]
  },
  {
   "cell_type": "code",
   "execution_count": 7,
   "metadata": {},
   "outputs": [
    {
     "data": {
      "text/plain": [
       "city      object\n",
       "date      object\n",
       "rate     float64\n",
       "state     object\n",
       "dtype: object"
      ]
     },
     "execution_count": 7,
     "metadata": {},
     "output_type": "execute_result"
    }
   ],
   "source": [
    "d.dtypes"
   ]
  },
  {
   "cell_type": "code",
   "execution_count": 8,
   "metadata": {},
   "outputs": [],
   "source": [
    "d['date']=pd.to_datetime(d['date'],format='%Y-%m-%d')"
   ]
  },
  {
   "cell_type": "markdown",
   "metadata": {},
   "source": [
    "### Shape of the dataset "
   ]
  },
  {
   "cell_type": "code",
   "execution_count": 9,
   "metadata": {},
   "outputs": [
    {
     "data": {
      "text/plain": [
       "(17235, 4)"
      ]
     },
     "execution_count": 9,
     "metadata": {},
     "output_type": "execute_result"
    }
   ],
   "source": [
    "d.shape"
   ]
  },
  {
   "cell_type": "markdown",
   "metadata": {},
   "source": [
    "### Number of dimensions "
   ]
  },
  {
   "cell_type": "code",
   "execution_count": 10,
   "metadata": {},
   "outputs": [
    {
     "data": {
      "text/plain": [
       "2"
      ]
     },
     "execution_count": 10,
     "metadata": {},
     "output_type": "execute_result"
    }
   ],
   "source": [
    "d.ndim"
   ]
  },
  {
   "cell_type": "markdown",
   "metadata": {},
   "source": [
    "### Print index "
   ]
  },
  {
   "cell_type": "code",
   "execution_count": 11,
   "metadata": {},
   "outputs": [
    {
     "data": {
      "text/plain": [
       "RangeIndex(start=0, stop=17235, step=1)"
      ]
     },
     "execution_count": 11,
     "metadata": {},
     "output_type": "execute_result"
    }
   ],
   "source": [
    "d.index"
   ]
  },
  {
   "cell_type": "markdown",
   "metadata": {},
   "source": [
    "### Column names "
   ]
  },
  {
   "cell_type": "code",
   "execution_count": 12,
   "metadata": {},
   "outputs": [
    {
     "data": {
      "text/plain": [
       "Index(['city', 'date', 'rate', 'state'], dtype='object')"
      ]
     },
     "execution_count": 12,
     "metadata": {},
     "output_type": "execute_result"
    }
   ],
   "source": [
    "d.columns"
   ]
  },
  {
   "cell_type": "markdown",
   "metadata": {},
   "source": [
    "### Information of the dataset"
   ]
  },
  {
   "cell_type": "code",
   "execution_count": 13,
   "metadata": {},
   "outputs": [
    {
     "name": "stdout",
     "output_type": "stream",
     "text": [
      "<class 'pandas.core.frame.DataFrame'>\n",
      "RangeIndex: 17235 entries, 0 to 17234\n",
      "Data columns (total 4 columns):\n",
      " #   Column  Non-Null Count  Dtype         \n",
      "---  ------  --------------  -----         \n",
      " 0   city    17235 non-null  object        \n",
      " 1   date    17235 non-null  datetime64[ns]\n",
      " 2   rate    17235 non-null  float64       \n",
      " 3   state   17235 non-null  object        \n",
      "dtypes: datetime64[ns](1), float64(1), object(2)\n",
      "memory usage: 538.7+ KB\n"
     ]
    }
   ],
   "source": [
    "d.info()"
   ]
  },
  {
   "cell_type": "markdown",
   "metadata": {},
   "source": [
    "### Sum of missing values "
   ]
  },
  {
   "cell_type": "code",
   "execution_count": 14,
   "metadata": {},
   "outputs": [
    {
     "data": {
      "text/plain": [
       "city     0\n",
       "date     0\n",
       "rate     0\n",
       "state    0\n",
       "dtype: int64"
      ]
     },
     "execution_count": 14,
     "metadata": {},
     "output_type": "execute_result"
    }
   ],
   "source": [
    "d.isna().sum()"
   ]
  },
  {
   "cell_type": "markdown",
   "metadata": {},
   "source": [
    "### Number of unique values "
   ]
  },
  {
   "cell_type": "code",
   "execution_count": 15,
   "metadata": {},
   "outputs": [
    {
     "data": {
      "text/plain": [
       "city       19\n",
       "date     1197\n",
       "rate     3159\n",
       "state      14\n",
       "dtype: int64"
      ]
     },
     "execution_count": 15,
     "metadata": {},
     "output_type": "execute_result"
    }
   ],
   "source": [
    "d.nunique()"
   ]
  },
  {
   "cell_type": "markdown",
   "metadata": {},
   "source": [
    "### Print unique cities in city column "
   ]
  },
  {
   "cell_type": "code",
   "execution_count": 16,
   "metadata": {},
   "outputs": [
    {
     "data": {
      "text/plain": [
       "array(['Agartala', 'Aizwal', 'Allahabad', 'Bengaluru', 'Chennai',\n",
       "       'Coimbatore', 'Delhi', 'Dimapur', 'Haridwar', 'Hyderabad',\n",
       "       'Karaikal', 'Kolkata', 'Madurai', 'Meerut', 'Mumbai', 'Nizamabad',\n",
       "       'Pondicherry', 'Shillong', 'Varanasi'], dtype=object)"
      ]
     },
     "execution_count": 16,
     "metadata": {},
     "output_type": "execute_result"
    }
   ],
   "source": [
    "d.city.unique()"
   ]
  },
  {
   "cell_type": "markdown",
   "metadata": {},
   "source": [
    "### Print states in the data set"
   ]
  },
  {
   "cell_type": "code",
   "execution_count": 17,
   "metadata": {
    "scrolled": true
   },
   "outputs": [
    {
     "data": {
      "text/plain": [
       "array(['Tripura', 'Mizoram', 'Uttar Pradesh', 'Karnataka', 'Tamil Nadu',\n",
       "       'Delhi', 'Nagaland', 'Uttarakhand', 'Telangana', 'Puducherry',\n",
       "       'West Bengal', 'Maharashtra', 'Pondicherry', 'Meghalaya'],\n",
       "      dtype=object)"
      ]
     },
     "execution_count": 17,
     "metadata": {},
     "output_type": "execute_result"
    }
   ],
   "source": [
    "d.state.unique()"
   ]
  },
  {
   "cell_type": "markdown",
   "metadata": {},
   "source": [
    "### Print statistical informations"
   ]
  },
  {
   "cell_type": "code",
   "execution_count": 18,
   "metadata": {},
   "outputs": [
    {
     "data": {
      "text/html": [
       "<div>\n",
       "<style scoped>\n",
       "    .dataframe tbody tr th:only-of-type {\n",
       "        vertical-align: middle;\n",
       "    }\n",
       "\n",
       "    .dataframe tbody tr th {\n",
       "        vertical-align: top;\n",
       "    }\n",
       "\n",
       "    .dataframe thead th {\n",
       "        text-align: right;\n",
       "    }\n",
       "</style>\n",
       "<table border=\"1\" class=\"dataframe\">\n",
       "  <thead>\n",
       "    <tr style=\"text-align: right;\">\n",
       "      <th></th>\n",
       "      <th>rate</th>\n",
       "    </tr>\n",
       "  </thead>\n",
       "  <tbody>\n",
       "    <tr>\n",
       "      <th>count</th>\n",
       "      <td>17235.000000</td>\n",
       "    </tr>\n",
       "    <tr>\n",
       "      <th>mean</th>\n",
       "      <td>67.010356</td>\n",
       "    </tr>\n",
       "    <tr>\n",
       "      <th>std</th>\n",
       "      <td>8.460510</td>\n",
       "    </tr>\n",
       "    <tr>\n",
       "      <th>min</th>\n",
       "      <td>18.050000</td>\n",
       "    </tr>\n",
       "    <tr>\n",
       "      <th>25%</th>\n",
       "      <td>63.170000</td>\n",
       "    </tr>\n",
       "    <tr>\n",
       "      <th>50%</th>\n",
       "      <td>67.980000</td>\n",
       "    </tr>\n",
       "    <tr>\n",
       "      <th>75%</th>\n",
       "      <td>72.270000</td>\n",
       "    </tr>\n",
       "    <tr>\n",
       "      <th>max</th>\n",
       "      <td>83.360000</td>\n",
       "    </tr>\n",
       "  </tbody>\n",
       "</table>\n",
       "</div>"
      ],
      "text/plain": [
       "               rate\n",
       "count  17235.000000\n",
       "mean      67.010356\n",
       "std        8.460510\n",
       "min       18.050000\n",
       "25%       63.170000\n",
       "50%       67.980000\n",
       "75%       72.270000\n",
       "max       83.360000"
      ]
     },
     "execution_count": 18,
     "metadata": {},
     "output_type": "execute_result"
    }
   ],
   "source": [
    "d.describe()"
   ]
  },
  {
   "cell_type": "markdown",
   "metadata": {},
   "source": [
    "### All statistical information including null values"
   ]
  },
  {
   "cell_type": "code",
   "execution_count": 19,
   "metadata": {},
   "outputs": [
    {
     "data": {
      "text/html": [
       "<div>\n",
       "<style scoped>\n",
       "    .dataframe tbody tr th:only-of-type {\n",
       "        vertical-align: middle;\n",
       "    }\n",
       "\n",
       "    .dataframe tbody tr th {\n",
       "        vertical-align: top;\n",
       "    }\n",
       "\n",
       "    .dataframe thead th {\n",
       "        text-align: right;\n",
       "    }\n",
       "</style>\n",
       "<table border=\"1\" class=\"dataframe\">\n",
       "  <thead>\n",
       "    <tr style=\"text-align: right;\">\n",
       "      <th></th>\n",
       "      <th>city</th>\n",
       "      <th>date</th>\n",
       "      <th>rate</th>\n",
       "      <th>state</th>\n",
       "    </tr>\n",
       "  </thead>\n",
       "  <tbody>\n",
       "    <tr>\n",
       "      <th>count</th>\n",
       "      <td>17235</td>\n",
       "      <td>17235</td>\n",
       "      <td>17235.000000</td>\n",
       "      <td>17235</td>\n",
       "    </tr>\n",
       "    <tr>\n",
       "      <th>unique</th>\n",
       "      <td>19</td>\n",
       "      <td>1197</td>\n",
       "      <td>NaN</td>\n",
       "      <td>14</td>\n",
       "    </tr>\n",
       "    <tr>\n",
       "      <th>top</th>\n",
       "      <td>Delhi</td>\n",
       "      <td>2018-01-05 00:00:00</td>\n",
       "      <td>NaN</td>\n",
       "      <td>Tamil Nadu</td>\n",
       "    </tr>\n",
       "    <tr>\n",
       "      <th>freq</th>\n",
       "      <td>1189</td>\n",
       "      <td>31</td>\n",
       "      <td>NaN</td>\n",
       "      <td>2974</td>\n",
       "    </tr>\n",
       "    <tr>\n",
       "      <th>first</th>\n",
       "      <td>NaN</td>\n",
       "      <td>2002-06-16 00:00:00</td>\n",
       "      <td>NaN</td>\n",
       "      <td>NaN</td>\n",
       "    </tr>\n",
       "    <tr>\n",
       "      <th>last</th>\n",
       "      <td>NaN</td>\n",
       "      <td>2020-12-31 00:00:00</td>\n",
       "      <td>NaN</td>\n",
       "      <td>NaN</td>\n",
       "    </tr>\n",
       "    <tr>\n",
       "      <th>mean</th>\n",
       "      <td>NaN</td>\n",
       "      <td>NaN</td>\n",
       "      <td>67.010356</td>\n",
       "      <td>NaN</td>\n",
       "    </tr>\n",
       "    <tr>\n",
       "      <th>std</th>\n",
       "      <td>NaN</td>\n",
       "      <td>NaN</td>\n",
       "      <td>8.460510</td>\n",
       "      <td>NaN</td>\n",
       "    </tr>\n",
       "    <tr>\n",
       "      <th>min</th>\n",
       "      <td>NaN</td>\n",
       "      <td>NaN</td>\n",
       "      <td>18.050000</td>\n",
       "      <td>NaN</td>\n",
       "    </tr>\n",
       "    <tr>\n",
       "      <th>25%</th>\n",
       "      <td>NaN</td>\n",
       "      <td>NaN</td>\n",
       "      <td>63.170000</td>\n",
       "      <td>NaN</td>\n",
       "    </tr>\n",
       "    <tr>\n",
       "      <th>50%</th>\n",
       "      <td>NaN</td>\n",
       "      <td>NaN</td>\n",
       "      <td>67.980000</td>\n",
       "      <td>NaN</td>\n",
       "    </tr>\n",
       "    <tr>\n",
       "      <th>75%</th>\n",
       "      <td>NaN</td>\n",
       "      <td>NaN</td>\n",
       "      <td>72.270000</td>\n",
       "      <td>NaN</td>\n",
       "    </tr>\n",
       "    <tr>\n",
       "      <th>max</th>\n",
       "      <td>NaN</td>\n",
       "      <td>NaN</td>\n",
       "      <td>83.360000</td>\n",
       "      <td>NaN</td>\n",
       "    </tr>\n",
       "  </tbody>\n",
       "</table>\n",
       "</div>"
      ],
      "text/plain": [
       "         city                 date          rate       state\n",
       "count   17235                17235  17235.000000       17235\n",
       "unique     19                 1197           NaN          14\n",
       "top     Delhi  2018-01-05 00:00:00           NaN  Tamil Nadu\n",
       "freq     1189                   31           NaN        2974\n",
       "first     NaN  2002-06-16 00:00:00           NaN         NaN\n",
       "last      NaN  2020-12-31 00:00:00           NaN         NaN\n",
       "mean      NaN                  NaN     67.010356         NaN\n",
       "std       NaN                  NaN      8.460510         NaN\n",
       "min       NaN                  NaN     18.050000         NaN\n",
       "25%       NaN                  NaN     63.170000         NaN\n",
       "50%       NaN                  NaN     67.980000         NaN\n",
       "75%       NaN                  NaN     72.270000         NaN\n",
       "max       NaN                  NaN     83.360000         NaN"
      ]
     },
     "execution_count": 19,
     "metadata": {},
     "output_type": "execute_result"
    }
   ],
   "source": [
    "d.describe(include=\"all\")"
   ]
  },
  {
   "cell_type": "markdown",
   "metadata": {},
   "source": [
    "### Check for duplicated values"
   ]
  },
  {
   "cell_type": "code",
   "execution_count": 20,
   "metadata": {},
   "outputs": [
    {
     "data": {
      "text/plain": [
       "0        False\n",
       "1        False\n",
       "2        False\n",
       "3        False\n",
       "4        False\n",
       "         ...  \n",
       "17230    False\n",
       "17231    False\n",
       "17232    False\n",
       "17233    False\n",
       "17234    False\n",
       "Length: 17235, dtype: bool"
      ]
     },
     "execution_count": 20,
     "metadata": {},
     "output_type": "execute_result"
    }
   ],
   "source": [
    "d.duplicated()"
   ]
  },
  {
   "cell_type": "markdown",
   "metadata": {},
   "source": [
    "### Sum of duplicated values"
   ]
  },
  {
   "cell_type": "code",
   "execution_count": 21,
   "metadata": {},
   "outputs": [
    {
     "data": {
      "text/plain": [
       "300"
      ]
     },
     "execution_count": 21,
     "metadata": {},
     "output_type": "execute_result"
    }
   ],
   "source": [
    "d.duplicated().sum()"
   ]
  },
  {
   "cell_type": "markdown",
   "metadata": {},
   "source": [
    "### Dropping duplicated values "
   ]
  },
  {
   "cell_type": "code",
   "execution_count": 22,
   "metadata": {},
   "outputs": [],
   "source": [
    "d.drop_duplicates(subset=None, inplace=True)"
   ]
  },
  {
   "cell_type": "code",
   "execution_count": 23,
   "metadata": {},
   "outputs": [
    {
     "data": {
      "text/plain": [
       "0"
      ]
     },
     "execution_count": 23,
     "metadata": {},
     "output_type": "execute_result"
    }
   ],
   "source": [
    "d.duplicated().sum()"
   ]
  },
  {
   "cell_type": "markdown",
   "metadata": {},
   "source": [
    "### Extracting year from date and creating a column for the same "
   ]
  },
  {
   "cell_type": "code",
   "execution_count": 24,
   "metadata": {},
   "outputs": [
    {
     "data": {
      "text/html": [
       "<div>\n",
       "<style scoped>\n",
       "    .dataframe tbody tr th:only-of-type {\n",
       "        vertical-align: middle;\n",
       "    }\n",
       "\n",
       "    .dataframe tbody tr th {\n",
       "        vertical-align: top;\n",
       "    }\n",
       "\n",
       "    .dataframe thead th {\n",
       "        text-align: right;\n",
       "    }\n",
       "</style>\n",
       "<table border=\"1\" class=\"dataframe\">\n",
       "  <thead>\n",
       "    <tr style=\"text-align: right;\">\n",
       "      <th></th>\n",
       "      <th>city</th>\n",
       "      <th>date</th>\n",
       "      <th>rate</th>\n",
       "      <th>state</th>\n",
       "      <th>year</th>\n",
       "    </tr>\n",
       "  </thead>\n",
       "  <tbody>\n",
       "    <tr>\n",
       "      <th>0</th>\n",
       "      <td>Agartala</td>\n",
       "      <td>2012-10-27</td>\n",
       "      <td>46.93</td>\n",
       "      <td>Tripura</td>\n",
       "      <td>2012</td>\n",
       "    </tr>\n",
       "    <tr>\n",
       "      <th>1</th>\n",
       "      <td>Agartala</td>\n",
       "      <td>2013-01-18</td>\n",
       "      <td>47.45</td>\n",
       "      <td>Tripura</td>\n",
       "      <td>2013</td>\n",
       "    </tr>\n",
       "    <tr>\n",
       "      <th>2</th>\n",
       "      <td>Agartala</td>\n",
       "      <td>2013-02-16</td>\n",
       "      <td>47.96</td>\n",
       "      <td>Tripura</td>\n",
       "      <td>2013</td>\n",
       "    </tr>\n",
       "    <tr>\n",
       "      <th>3</th>\n",
       "      <td>Agartala</td>\n",
       "      <td>2013-03-23</td>\n",
       "      <td>47.46</td>\n",
       "      <td>Tripura</td>\n",
       "      <td>2013</td>\n",
       "    </tr>\n",
       "    <tr>\n",
       "      <th>4</th>\n",
       "      <td>Agartala</td>\n",
       "      <td>2013-04-01</td>\n",
       "      <td>48.47</td>\n",
       "      <td>Tripura</td>\n",
       "      <td>2013</td>\n",
       "    </tr>\n",
       "    <tr>\n",
       "      <th>...</th>\n",
       "      <td>...</td>\n",
       "      <td>...</td>\n",
       "      <td>...</td>\n",
       "      <td>...</td>\n",
       "      <td>...</td>\n",
       "    </tr>\n",
       "    <tr>\n",
       "      <th>17230</th>\n",
       "      <td>Varanasi</td>\n",
       "      <td>2020-12-27</td>\n",
       "      <td>74.84</td>\n",
       "      <td>Uttar Pradesh</td>\n",
       "      <td>2020</td>\n",
       "    </tr>\n",
       "    <tr>\n",
       "      <th>17231</th>\n",
       "      <td>Varanasi</td>\n",
       "      <td>2020-12-28</td>\n",
       "      <td>74.84</td>\n",
       "      <td>Uttar Pradesh</td>\n",
       "      <td>2020</td>\n",
       "    </tr>\n",
       "    <tr>\n",
       "      <th>17232</th>\n",
       "      <td>Varanasi</td>\n",
       "      <td>2020-12-29</td>\n",
       "      <td>74.84</td>\n",
       "      <td>Uttar Pradesh</td>\n",
       "      <td>2020</td>\n",
       "    </tr>\n",
       "    <tr>\n",
       "      <th>17233</th>\n",
       "      <td>Varanasi</td>\n",
       "      <td>2020-12-30</td>\n",
       "      <td>74.84</td>\n",
       "      <td>Uttar Pradesh</td>\n",
       "      <td>2020</td>\n",
       "    </tr>\n",
       "    <tr>\n",
       "      <th>17234</th>\n",
       "      <td>Varanasi</td>\n",
       "      <td>2020-12-31</td>\n",
       "      <td>74.84</td>\n",
       "      <td>Uttar Pradesh</td>\n",
       "      <td>2020</td>\n",
       "    </tr>\n",
       "  </tbody>\n",
       "</table>\n",
       "<p>16935 rows × 5 columns</p>\n",
       "</div>"
      ],
      "text/plain": [
       "           city       date   rate          state  year\n",
       "0      Agartala 2012-10-27  46.93        Tripura  2012\n",
       "1      Agartala 2013-01-18  47.45        Tripura  2013\n",
       "2      Agartala 2013-02-16  47.96        Tripura  2013\n",
       "3      Agartala 2013-03-23  47.46        Tripura  2013\n",
       "4      Agartala 2013-04-01  48.47        Tripura  2013\n",
       "...         ...        ...    ...            ...   ...\n",
       "17230  Varanasi 2020-12-27  74.84  Uttar Pradesh  2020\n",
       "17231  Varanasi 2020-12-28  74.84  Uttar Pradesh  2020\n",
       "17232  Varanasi 2020-12-29  74.84  Uttar Pradesh  2020\n",
       "17233  Varanasi 2020-12-30  74.84  Uttar Pradesh  2020\n",
       "17234  Varanasi 2020-12-31  74.84  Uttar Pradesh  2020\n",
       "\n",
       "[16935 rows x 5 columns]"
      ]
     },
     "execution_count": 24,
     "metadata": {},
     "output_type": "execute_result"
    }
   ],
   "source": [
    "d[\"year\"]=pd.DatetimeIndex(d[\"date\"]).year\n",
    "d"
   ]
  },
  {
   "cell_type": "markdown",
   "metadata": {},
   "source": [
    "### Count of  each states appear in the dataset"
   ]
  },
  {
   "cell_type": "code",
   "execution_count": 25,
   "metadata": {},
   "outputs": [
    {
     "data": {
      "text/plain": [
       "Tamil Nadu       2928\n",
       "Uttar Pradesh    2378\n",
       "Telangana        1849\n",
       "Maharashtra      1171\n",
       "Delhi            1170\n",
       "West Bengal      1158\n",
       "Karnataka        1111\n",
       "Pondicherry       938\n",
       "Meghalaya         936\n",
       "Mizoram           932\n",
       "Tripura           815\n",
       "Nagaland          793\n",
       "Uttarakhand       378\n",
       "Puducherry        378\n",
       "Name: state, dtype: int64"
      ]
     },
     "execution_count": 25,
     "metadata": {},
     "output_type": "execute_result"
    }
   ],
   "source": [
    "d.state.value_counts()"
   ]
  },
  {
   "cell_type": "code",
   "execution_count": 26,
   "metadata": {},
   "outputs": [
    {
     "data": {
      "text/plain": [
       "(array([ 0,  1,  2,  3,  4,  5,  6,  7,  8,  9, 10, 11, 12, 13]),\n",
       " [Text(0, 0, 'Tripura'),\n",
       "  Text(1, 0, 'Mizoram'),\n",
       "  Text(2, 0, 'Uttar Pradesh'),\n",
       "  Text(3, 0, 'Karnataka'),\n",
       "  Text(4, 0, 'Tamil Nadu'),\n",
       "  Text(5, 0, 'Delhi'),\n",
       "  Text(6, 0, 'Nagaland'),\n",
       "  Text(7, 0, 'Uttarakhand'),\n",
       "  Text(8, 0, 'Telangana'),\n",
       "  Text(9, 0, 'Puducherry'),\n",
       "  Text(10, 0, 'West Bengal'),\n",
       "  Text(11, 0, 'Maharashtra'),\n",
       "  Text(12, 0, 'Pondicherry'),\n",
       "  Text(13, 0, 'Meghalaya')])"
      ]
     },
     "execution_count": 26,
     "metadata": {},
     "output_type": "execute_result"
    },
    {
     "data": {
      "image/png": "[encoded data removed]",
      "text/plain": [
       "<Figure size 1080x360 with 1 Axes>"
      ]
     },
     "metadata": {
      "needs_background": "light"
     },
     "output_type": "display_data"
    }
   ],
   "source": [
    "plt.figure(figsize=(15,5))\n",
    "sns.countplot(d[\"state\"])\n",
    "plt.xticks(rotation=90)"
   ]
  },
  {
   "cell_type": "markdown",
   "metadata": {},
   "source": [
    "### Count of  each cities appear in the dataset"
   ]
  },
  {
   "cell_type": "code",
   "execution_count": 27,
   "metadata": {},
   "outputs": [
    {
     "data": {
      "text/plain": [
       "Chennai        1171\n",
       "Mumbai         1171\n",
       "Delhi          1170\n",
       "Kolkata        1158\n",
       "Hyderabad      1115\n",
       "Bengaluru      1111\n",
       "Coimbatore      963\n",
       "Pondicherry     938\n",
       "Shillong        936\n",
       "Aizwal          932\n",
       "Agartala        815\n",
       "Varanasi        794\n",
       "Madurai         794\n",
       "Meerut          794\n",
       "Dimapur         793\n",
       "Allahabad       790\n",
       "Nizamabad       734\n",
       "Haridwar        378\n",
       "Karaikal        378\n",
       "Name: city, dtype: int64"
      ]
     },
     "execution_count": 27,
     "metadata": {},
     "output_type": "execute_result"
    }
   ],
   "source": [
    "d.city.value_counts()"
   ]
  },
  {
   "cell_type": "code",
   "execution_count": 28,
   "metadata": {},
   "outputs": [
    {
     "data": {
      "text/plain": [
       "(array([ 0,  1,  2,  3,  4,  5,  6,  7,  8,  9, 10, 11, 12, 13, 14, 15, 16,\n",
       "        17, 18]),\n",
       " [Text(0, 0, 'Agartala'),\n",
       "  Text(1, 0, 'Aizwal'),\n",
       "  Text(2, 0, 'Allahabad'),\n",
       "  Text(3, 0, 'Bengaluru'),\n",
       "  Text(4, 0, 'Chennai'),\n",
       "  Text(5, 0, 'Coimbatore'),\n",
       "  Text(6, 0, 'Delhi'),\n",
       "  Text(7, 0, 'Dimapur'),\n",
       "  Text(8, 0, 'Haridwar'),\n",
       "  Text(9, 0, 'Hyderabad'),\n",
       "  Text(10, 0, 'Karaikal'),\n",
       "  Text(11, 0, 'Kolkata'),\n",
       "  Text(12, 0, 'Madurai'),\n",
       "  Text(13, 0, 'Meerut'),\n",
       "  Text(14, 0, 'Mumbai'),\n",
       "  Text(15, 0, 'Nizamabad'),\n",
       "  Text(16, 0, 'Pondicherry'),\n",
       "  Text(17, 0, 'Shillong'),\n",
       "  Text(18, 0, 'Varanasi')])"
      ]
     },
     "execution_count": 28,
     "metadata": {},
     "output_type": "execute_result"
    },
    {
     "data": {
      "image/png": "[encoded data removed]",
      "text/plain": [
       "<Figure size 1080x360 with 1 Axes>"
      ]
     },
     "metadata": {
      "needs_background": "light"
     },
     "output_type": "display_data"
    }
   ],
   "source": [
    "plt.figure(figsize=(15,5))\n",
    "sns.countplot(d[\"city\"])\n",
    "plt.xticks(rotation=90)"
   ]
  },
  {
   "cell_type": "markdown",
   "metadata": {},
   "source": [
    "### Peak diesel price per day"
   ]
  },
  {
   "cell_type": "code",
   "execution_count": 29,
   "metadata": {},
   "outputs": [
    {
     "data": {
      "text/html": [
       "<div>\n",
       "<style scoped>\n",
       "    .dataframe tbody tr th:only-of-type {\n",
       "        vertical-align: middle;\n",
       "    }\n",
       "\n",
       "    .dataframe tbody tr th {\n",
       "        vertical-align: top;\n",
       "    }\n",
       "\n",
       "    .dataframe thead th {\n",
       "        text-align: right;\n",
       "    }\n",
       "</style>\n",
       "<table border=\"1\" class=\"dataframe\">\n",
       "  <thead>\n",
       "    <tr style=\"text-align: right;\">\n",
       "      <th></th>\n",
       "      <th>city</th>\n",
       "      <th>date</th>\n",
       "      <th>rate</th>\n",
       "      <th>state</th>\n",
       "      <th>year</th>\n",
       "    </tr>\n",
       "  </thead>\n",
       "  <tbody>\n",
       "    <tr>\n",
       "      <th>13949</th>\n",
       "      <td>Nizamabad</td>\n",
       "      <td>2018-10-16</td>\n",
       "      <td>83.36</td>\n",
       "      <td>Telangana</td>\n",
       "      <td>2018</td>\n",
       "    </tr>\n",
       "    <tr>\n",
       "      <th>13950</th>\n",
       "      <td>Nizamabad</td>\n",
       "      <td>2018-10-18</td>\n",
       "      <td>83.24</td>\n",
       "      <td>Telangana</td>\n",
       "      <td>2018</td>\n",
       "    </tr>\n",
       "    <tr>\n",
       "      <th>13951</th>\n",
       "      <td>Nizamabad</td>\n",
       "      <td>2018-10-19</td>\n",
       "      <td>83.13</td>\n",
       "      <td>Telangana</td>\n",
       "      <td>2018</td>\n",
       "    </tr>\n",
       "    <tr>\n",
       "      <th>13948</th>\n",
       "      <td>Nizamabad</td>\n",
       "      <td>2018-10-15</td>\n",
       "      <td>83.11</td>\n",
       "      <td>Telangana</td>\n",
       "      <td>2018</td>\n",
       "    </tr>\n",
       "    <tr>\n",
       "      <th>13937</th>\n",
       "      <td>Nizamabad</td>\n",
       "      <td>2018-10-04</td>\n",
       "      <td>83.10</td>\n",
       "      <td>Telangana</td>\n",
       "      <td>2018</td>\n",
       "    </tr>\n",
       "  </tbody>\n",
       "</table>\n",
       "</div>"
      ],
      "text/plain": [
       "            city       date   rate      state  year\n",
       "13949  Nizamabad 2018-10-16  83.36  Telangana  2018\n",
       "13950  Nizamabad 2018-10-18  83.24  Telangana  2018\n",
       "13951  Nizamabad 2018-10-19  83.13  Telangana  2018\n",
       "13948  Nizamabad 2018-10-15  83.11  Telangana  2018\n",
       "13937  Nizamabad 2018-10-04  83.10  Telangana  2018"
      ]
     },
     "execution_count": 29,
     "metadata": {},
     "output_type": "execute_result"
    }
   ],
   "source": [
    "day_rateP=d.sort_values('rate',ascending=False)\n",
    "day_rateP.head()\n"
   ]
  },
  {
   "cell_type": "code",
   "execution_count": 30,
   "metadata": {},
   "outputs": [
    {
     "data": {
      "image/png": "[encoded data removed]",
      "text/plain": [
       "<Figure size 1224x216 with 1 Axes>"
      ]
     },
     "metadata": {
      "needs_background": "light"
     },
     "output_type": "display_data"
    }
   ],
   "source": [
    "plt.figure(figsize=(17,3))\n",
    "plt.bar(d['state'],d['rate'],color='forestgreen')\n",
    "plt.title('Peak Diesel rates',fontsize=15,color='green')\n",
    "plt.xlabel(\"State\",fontsize=10,color='black')\n",
    "plt.xticks(rotation=90)\n",
    "plt.ylabel(\"Rate\",fontsize=10,color='black')\n",
    "plt.show()"
   ]
  },
  {
   "cell_type": "markdown",
   "metadata": {},
   "source": [
    "### Telangana(Nizamabad) has the highest diesel rate."
   ]
  },
  {
   "cell_type": "markdown",
   "metadata": {},
   "source": [
    "### Lowest diesel price per day"
   ]
  },
  {
   "cell_type": "code",
   "execution_count": 31,
   "metadata": {},
   "outputs": [
    {
     "data": {
      "text/html": [
       "<div>\n",
       "<style scoped>\n",
       "    .dataframe tbody tr th:only-of-type {\n",
       "        vertical-align: middle;\n",
       "    }\n",
       "\n",
       "    .dataframe tbody tr th {\n",
       "        vertical-align: top;\n",
       "    }\n",
       "\n",
       "    .dataframe thead th {\n",
       "        text-align: right;\n",
       "    }\n",
       "</style>\n",
       "<table border=\"1\" class=\"dataframe\">\n",
       "  <thead>\n",
       "    <tr style=\"text-align: right;\">\n",
       "      <th></th>\n",
       "      <th>city</th>\n",
       "      <th>date</th>\n",
       "      <th>rate</th>\n",
       "      <th>state</th>\n",
       "      <th>year</th>\n",
       "    </tr>\n",
       "  </thead>\n",
       "  <tbody>\n",
       "    <tr>\n",
       "      <th>5861</th>\n",
       "      <td>Delhi</td>\n",
       "      <td>2002-08-16</td>\n",
       "      <td>18.05</td>\n",
       "      <td>Delhi</td>\n",
       "      <td>2002</td>\n",
       "    </tr>\n",
       "    <tr>\n",
       "      <th>5868</th>\n",
       "      <td>Delhi</td>\n",
       "      <td>2002-12-01</td>\n",
       "      <td>18.06</td>\n",
       "      <td>Delhi</td>\n",
       "      <td>2002</td>\n",
       "    </tr>\n",
       "    <tr>\n",
       "      <th>5860</th>\n",
       "      <td>Delhi</td>\n",
       "      <td>2002-08-01</td>\n",
       "      <td>18.23</td>\n",
       "      <td>Delhi</td>\n",
       "      <td>2002</td>\n",
       "    </tr>\n",
       "    <tr>\n",
       "      <th>5859</th>\n",
       "      <td>Delhi</td>\n",
       "      <td>2002-07-01</td>\n",
       "      <td>18.23</td>\n",
       "      <td>Delhi</td>\n",
       "      <td>2002</td>\n",
       "    </tr>\n",
       "    <tr>\n",
       "      <th>5858</th>\n",
       "      <td>Delhi</td>\n",
       "      <td>2002-06-16</td>\n",
       "      <td>18.23</td>\n",
       "      <td>Delhi</td>\n",
       "      <td>2002</td>\n",
       "    </tr>\n",
       "  </tbody>\n",
       "</table>\n",
       "</div>"
      ],
      "text/plain": [
       "       city       date   rate  state  year\n",
       "5861  Delhi 2002-08-16  18.05  Delhi  2002\n",
       "5868  Delhi 2002-12-01  18.06  Delhi  2002\n",
       "5860  Delhi 2002-08-01  18.23  Delhi  2002\n",
       "5859  Delhi 2002-07-01  18.23  Delhi  2002\n",
       "5858  Delhi 2002-06-16  18.23  Delhi  2002"
      ]
     },
     "execution_count": 31,
     "metadata": {},
     "output_type": "execute_result"
    }
   ],
   "source": [
    "day_rateM=d.sort_values(\"rate\",ascending=True)\n",
    "day_rateM.head()"
   ]
  },
  {
   "cell_type": "code",
   "execution_count": 32,
   "metadata": {},
   "outputs": [
    {
     "data": {
      "image/png": "[encoded data removed]",
      "text/plain": [
       "<Figure size 1224x216 with 1 Axes>"
      ]
     },
     "metadata": {
      "needs_background": "light"
     },
     "output_type": "display_data"
    }
   ],
   "source": [
    "plt.figure(figsize=(17,3))\n",
    "plt.bar(day_rateM['state'],day_rateM['rate'],color='crimson')\n",
    "plt.title('Lowest Diesel Rates',fontsize=15,color='green')\n",
    "plt.xlabel(\"State\",fontsize=10,color='black')\n",
    "plt.xticks(rotation=90)\n",
    "plt.ylabel(\"Rate\",fontsize=10,color='black')\n",
    "plt.show()"
   ]
  },
  {
   "cell_type": "markdown",
   "metadata": {},
   "source": [
    "### Delhi has the lowest diesel rate."
   ]
  },
  {
   "cell_type": "markdown",
   "metadata": {},
   "source": [
    "### Groupby state and city and maximum of rate"
   ]
  },
  {
   "cell_type": "code",
   "execution_count": 119,
   "metadata": {},
   "outputs": [
    {
     "data": {
      "text/html": [
       "<div>\n",
       "<style scoped>\n",
       "    .dataframe tbody tr th:only-of-type {\n",
       "        vertical-align: middle;\n",
       "    }\n",
       "\n",
       "    .dataframe tbody tr th {\n",
       "        vertical-align: top;\n",
       "    }\n",
       "\n",
       "    .dataframe thead th {\n",
       "        text-align: right;\n",
       "    }\n",
       "</style>\n",
       "<table border=\"1\" class=\"dataframe\">\n",
       "  <thead>\n",
       "    <tr style=\"text-align: right;\">\n",
       "      <th></th>\n",
       "      <th></th>\n",
       "      <th>date</th>\n",
       "      <th>rate</th>\n",
       "      <th>year</th>\n",
       "    </tr>\n",
       "    <tr>\n",
       "      <th>state</th>\n",
       "      <th>city</th>\n",
       "      <th></th>\n",
       "      <th></th>\n",
       "      <th></th>\n",
       "    </tr>\n",
       "  </thead>\n",
       "  <tbody>\n",
       "    <tr>\n",
       "      <th>Delhi</th>\n",
       "      <th>Delhi</th>\n",
       "      <td>2020-12-31</td>\n",
       "      <td>82.00</td>\n",
       "      <td>2020</td>\n",
       "    </tr>\n",
       "    <tr>\n",
       "      <th>Karnataka</th>\n",
       "      <th>Bengaluru</th>\n",
       "      <td>2020-12-31</td>\n",
       "      <td>78.27</td>\n",
       "      <td>2020</td>\n",
       "    </tr>\n",
       "    <tr>\n",
       "      <th>Maharashtra</th>\n",
       "      <th>Mumbai</th>\n",
       "      <td>2020-12-31</td>\n",
       "      <td>80.47</td>\n",
       "      <td>2020</td>\n",
       "    </tr>\n",
       "    <tr>\n",
       "      <th>Meghalaya</th>\n",
       "      <th>Shillong</th>\n",
       "      <td>2020-12-31</td>\n",
       "      <td>79.97</td>\n",
       "      <td>2020</td>\n",
       "    </tr>\n",
       "    <tr>\n",
       "      <th>Mizoram</th>\n",
       "      <th>Aizwal</th>\n",
       "      <td>2020-12-31</td>\n",
       "      <td>73.29</td>\n",
       "      <td>2020</td>\n",
       "    </tr>\n",
       "    <tr>\n",
       "      <th>Nagaland</th>\n",
       "      <th>Dimapur</th>\n",
       "      <td>2020-12-31</td>\n",
       "      <td>79.47</td>\n",
       "      <td>2020</td>\n",
       "    </tr>\n",
       "    <tr>\n",
       "      <th>Pondicherry</th>\n",
       "      <th>Pondicherry</th>\n",
       "      <td>2020-12-31</td>\n",
       "      <td>79.28</td>\n",
       "      <td>2020</td>\n",
       "    </tr>\n",
       "    <tr>\n",
       "      <th>Puducherry</th>\n",
       "      <th>Karaikal</th>\n",
       "      <td>2020-12-31</td>\n",
       "      <td>59.75</td>\n",
       "      <td>2020</td>\n",
       "    </tr>\n",
       "    <tr>\n",
       "      <th rowspan=\"3\" valign=\"top\">Tamil Nadu</th>\n",
       "      <th>Chennai</th>\n",
       "      <td>2020-12-31</td>\n",
       "      <td>80.10</td>\n",
       "      <td>2020</td>\n",
       "    </tr>\n",
       "    <tr>\n",
       "      <th>Coimbatore</th>\n",
       "      <td>2020-12-31</td>\n",
       "      <td>80.45</td>\n",
       "      <td>2020</td>\n",
       "    </tr>\n",
       "    <tr>\n",
       "      <th>Madurai</th>\n",
       "      <td>2020-12-31</td>\n",
       "      <td>80.71</td>\n",
       "      <td>2020</td>\n",
       "    </tr>\n",
       "    <tr>\n",
       "      <th rowspan=\"2\" valign=\"top\">Telangana</th>\n",
       "      <th>Hyderabad</th>\n",
       "      <td>2020-12-31</td>\n",
       "      <td>82.38</td>\n",
       "      <td>2020</td>\n",
       "    </tr>\n",
       "    <tr>\n",
       "      <th>Nizamabad</th>\n",
       "      <td>2020-12-31</td>\n",
       "      <td>83.36</td>\n",
       "      <td>2020</td>\n",
       "    </tr>\n",
       "    <tr>\n",
       "      <th>Tripura</th>\n",
       "      <th>Agartala</th>\n",
       "      <td>2020-12-31</td>\n",
       "      <td>81.00</td>\n",
       "      <td>2020</td>\n",
       "    </tr>\n",
       "    <tr>\n",
       "      <th rowspan=\"3\" valign=\"top\">Uttar Pradesh</th>\n",
       "      <th>Allahabad</th>\n",
       "      <td>2020-12-31</td>\n",
       "      <td>75.67</td>\n",
       "      <td>2020</td>\n",
       "    </tr>\n",
       "    <tr>\n",
       "      <th>Meerut</th>\n",
       "      <td>2020-12-31</td>\n",
       "      <td>75.40</td>\n",
       "      <td>2020</td>\n",
       "    </tr>\n",
       "    <tr>\n",
       "      <th>Varanasi</th>\n",
       "      <td>2020-12-31</td>\n",
       "      <td>76.19</td>\n",
       "      <td>2020</td>\n",
       "    </tr>\n",
       "    <tr>\n",
       "      <th>Uttarakhand</th>\n",
       "      <th>Haridwar</th>\n",
       "      <td>2020-12-31</td>\n",
       "      <td>61.59</td>\n",
       "      <td>2020</td>\n",
       "    </tr>\n",
       "    <tr>\n",
       "      <th>West Bengal</th>\n",
       "      <th>Kolkata</th>\n",
       "      <td>2020-12-31</td>\n",
       "      <td>77.59</td>\n",
       "      <td>2020</td>\n",
       "    </tr>\n",
       "  </tbody>\n",
       "</table>\n",
       "</div>"
      ],
      "text/plain": [
       "                                date   rate  year\n",
       "state         city                               \n",
       "Delhi         Delhi       2020-12-31  82.00  2020\n",
       "Karnataka     Bengaluru   2020-12-31  78.27  2020\n",
       "Maharashtra   Mumbai      2020-12-31  80.47  2020\n",
       "Meghalaya     Shillong    2020-12-31  79.97  2020\n",
       "Mizoram       Aizwal      2020-12-31  73.29  2020\n",
       "Nagaland      Dimapur     2020-12-31  79.47  2020\n",
       "Pondicherry   Pondicherry 2020-12-31  79.28  2020\n",
       "Puducherry    Karaikal    2020-12-31  59.75  2020\n",
       "Tamil Nadu    Chennai     2020-12-31  80.10  2020\n",
       "              Coimbatore  2020-12-31  80.45  2020\n",
       "              Madurai     2020-12-31  80.71  2020\n",
       "Telangana     Hyderabad   2020-12-31  82.38  2020\n",
       "              Nizamabad   2020-12-31  83.36  2020\n",
       "Tripura       Agartala    2020-12-31  81.00  2020\n",
       "Uttar Pradesh Allahabad   2020-12-31  75.67  2020\n",
       "              Meerut      2020-12-31  75.40  2020\n",
       "              Varanasi    2020-12-31  76.19  2020\n",
       "Uttarakhand   Haridwar    2020-12-31  61.59  2020\n",
       "West Bengal   Kolkata     2020-12-31  77.59  2020"
      ]
     },
     "execution_count": 119,
     "metadata": {},
     "output_type": "execute_result"
    }
   ],
   "source": [
    "state_city=d.groupby(['state','city']).max()\n",
    "state_city"
   ]
  },
  {
   "cell_type": "code",
   "execution_count": 121,
   "metadata": {
    "scrolled": false
   },
   "outputs": [
    {
     "data": {
      "text/html": [
       "<div>\n",
       "<style scoped>\n",
       "    .dataframe tbody tr th:only-of-type {\n",
       "        vertical-align: middle;\n",
       "    }\n",
       "\n",
       "    .dataframe tbody tr th {\n",
       "        vertical-align: top;\n",
       "    }\n",
       "\n",
       "    .dataframe thead th {\n",
       "        text-align: right;\n",
       "    }\n",
       "</style>\n",
       "<table border=\"1\" class=\"dataframe\">\n",
       "  <thead>\n",
       "    <tr style=\"text-align: right;\">\n",
       "      <th></th>\n",
       "      <th></th>\n",
       "      <th>date</th>\n",
       "      <th>rate</th>\n",
       "      <th>year</th>\n",
       "    </tr>\n",
       "    <tr>\n",
       "      <th>state</th>\n",
       "      <th>city</th>\n",
       "      <th></th>\n",
       "      <th></th>\n",
       "      <th></th>\n",
       "    </tr>\n",
       "  </thead>\n",
       "  <tbody>\n",
       "    <tr>\n",
       "      <th>Puducherry</th>\n",
       "      <th>Karaikal</th>\n",
       "      <td>2020-12-31</td>\n",
       "      <td>59.75</td>\n",
       "      <td>2020</td>\n",
       "    </tr>\n",
       "    <tr>\n",
       "      <th>Uttarakhand</th>\n",
       "      <th>Haridwar</th>\n",
       "      <td>2020-12-31</td>\n",
       "      <td>61.59</td>\n",
       "      <td>2020</td>\n",
       "    </tr>\n",
       "    <tr>\n",
       "      <th>Mizoram</th>\n",
       "      <th>Aizwal</th>\n",
       "      <td>2020-12-31</td>\n",
       "      <td>73.29</td>\n",
       "      <td>2020</td>\n",
       "    </tr>\n",
       "    <tr>\n",
       "      <th rowspan=\"3\" valign=\"top\">Uttar Pradesh</th>\n",
       "      <th>Meerut</th>\n",
       "      <td>2020-12-31</td>\n",
       "      <td>75.40</td>\n",
       "      <td>2020</td>\n",
       "    </tr>\n",
       "    <tr>\n",
       "      <th>Allahabad</th>\n",
       "      <td>2020-12-31</td>\n",
       "      <td>75.67</td>\n",
       "      <td>2020</td>\n",
       "    </tr>\n",
       "    <tr>\n",
       "      <th>Varanasi</th>\n",
       "      <td>2020-12-31</td>\n",
       "      <td>76.19</td>\n",
       "      <td>2020</td>\n",
       "    </tr>\n",
       "    <tr>\n",
       "      <th>West Bengal</th>\n",
       "      <th>Kolkata</th>\n",
       "      <td>2020-12-31</td>\n",
       "      <td>77.59</td>\n",
       "      <td>2020</td>\n",
       "    </tr>\n",
       "    <tr>\n",
       "      <th>Karnataka</th>\n",
       "      <th>Bengaluru</th>\n",
       "      <td>2020-12-31</td>\n",
       "      <td>78.27</td>\n",
       "      <td>2020</td>\n",
       "    </tr>\n",
       "    <tr>\n",
       "      <th>Pondicherry</th>\n",
       "      <th>Pondicherry</th>\n",
       "      <td>2020-12-31</td>\n",
       "      <td>79.28</td>\n",
       "      <td>2020</td>\n",
       "    </tr>\n",
       "    <tr>\n",
       "      <th>Nagaland</th>\n",
       "      <th>Dimapur</th>\n",
       "      <td>2020-12-31</td>\n",
       "      <td>79.47</td>\n",
       "      <td>2020</td>\n",
       "    </tr>\n",
       "    <tr>\n",
       "      <th>Meghalaya</th>\n",
       "      <th>Shillong</th>\n",
       "      <td>2020-12-31</td>\n",
       "      <td>79.97</td>\n",
       "      <td>2020</td>\n",
       "    </tr>\n",
       "    <tr>\n",
       "      <th rowspan=\"2\" valign=\"top\">Tamil Nadu</th>\n",
       "      <th>Chennai</th>\n",
       "      <td>2020-12-31</td>\n",
       "      <td>80.10</td>\n",
       "      <td>2020</td>\n",
       "    </tr>\n",
       "    <tr>\n",
       "      <th>Coimbatore</th>\n",
       "      <td>2020-12-31</td>\n",
       "      <td>80.45</td>\n",
       "      <td>2020</td>\n",
       "    </tr>\n",
       "    <tr>\n",
       "      <th>Maharashtra</th>\n",
       "      <th>Mumbai</th>\n",
       "      <td>2020-12-31</td>\n",
       "      <td>80.47</td>\n",
       "      <td>2020</td>\n",
       "    </tr>\n",
       "    <tr>\n",
       "      <th>Tamil Nadu</th>\n",
       "      <th>Madurai</th>\n",
       "      <td>2020-12-31</td>\n",
       "      <td>80.71</td>\n",
       "      <td>2020</td>\n",
       "    </tr>\n",
       "    <tr>\n",
       "      <th>Tripura</th>\n",
       "      <th>Agartala</th>\n",
       "      <td>2020-12-31</td>\n",
       "      <td>81.00</td>\n",
       "      <td>2020</td>\n",
       "    </tr>\n",
       "    <tr>\n",
       "      <th>Delhi</th>\n",
       "      <th>Delhi</th>\n",
       "      <td>2020-12-31</td>\n",
       "      <td>82.00</td>\n",
       "      <td>2020</td>\n",
       "    </tr>\n",
       "    <tr>\n",
       "      <th rowspan=\"2\" valign=\"top\">Telangana</th>\n",
       "      <th>Hyderabad</th>\n",
       "      <td>2020-12-31</td>\n",
       "      <td>82.38</td>\n",
       "      <td>2020</td>\n",
       "    </tr>\n",
       "    <tr>\n",
       "      <th>Nizamabad</th>\n",
       "      <td>2020-12-31</td>\n",
       "      <td>83.36</td>\n",
       "      <td>2020</td>\n",
       "    </tr>\n",
       "  </tbody>\n",
       "</table>\n",
       "</div>"
      ],
      "text/plain": [
       "                                date   rate  year\n",
       "state         city                               \n",
       "Puducherry    Karaikal    2020-12-31  59.75  2020\n",
       "Uttarakhand   Haridwar    2020-12-31  61.59  2020\n",
       "Mizoram       Aizwal      2020-12-31  73.29  2020\n",
       "Uttar Pradesh Meerut      2020-12-31  75.40  2020\n",
       "              Allahabad   2020-12-31  75.67  2020\n",
       "              Varanasi    2020-12-31  76.19  2020\n",
       "West Bengal   Kolkata     2020-12-31  77.59  2020\n",
       "Karnataka     Bengaluru   2020-12-31  78.27  2020\n",
       "Pondicherry   Pondicherry 2020-12-31  79.28  2020\n",
       "Nagaland      Dimapur     2020-12-31  79.47  2020\n",
       "Meghalaya     Shillong    2020-12-31  79.97  2020\n",
       "Tamil Nadu    Chennai     2020-12-31  80.10  2020\n",
       "              Coimbatore  2020-12-31  80.45  2020\n",
       "Maharashtra   Mumbai      2020-12-31  80.47  2020\n",
       "Tamil Nadu    Madurai     2020-12-31  80.71  2020\n",
       "Tripura       Agartala    2020-12-31  81.00  2020\n",
       "Delhi         Delhi       2020-12-31  82.00  2020\n",
       "Telangana     Hyderabad   2020-12-31  82.38  2020\n",
       "              Nizamabad   2020-12-31  83.36  2020"
      ]
     },
     "execution_count": 121,
     "metadata": {},
     "output_type": "execute_result"
    }
   ],
   "source": [
    "state_city.sort_values(\"rate\")"
   ]
  },
  {
   "cell_type": "code",
   "execution_count": 36,
   "metadata": {},
   "outputs": [
    {
     "data": {
      "image/png": "[encoded data removed]",
      "text/plain": [
       "<Figure size 432x288 with 1 Axes>"
      ]
     },
     "metadata": {
      "needs_background": "light"
     },
     "output_type": "display_data"
    }
   ],
   "source": [
    "sns.boxplot(state_city[\"rate\"],color='pink')\n",
    "plt.show()"
   ]
  },
  {
   "cell_type": "markdown",
   "metadata": {},
   "source": [
    "### Maharashtra has the highest total diesel rate,Telengana is in the next position.\n",
    "\n",
    "### Puducherry have the lowest total diesel rate,Uttarakhand is in the second position in lowest total diesel rate."
   ]
  },
  {
   "cell_type": "markdown",
   "metadata": {},
   "source": [
    "###     Extracting the state Telangana`"
   ]
  },
  {
   "cell_type": "code",
   "execution_count": 37,
   "metadata": {},
   "outputs": [
    {
     "data": {
      "text/html": [
       "<div>\n",
       "<style scoped>\n",
       "    .dataframe tbody tr th:only-of-type {\n",
       "        vertical-align: middle;\n",
       "    }\n",
       "\n",
       "    .dataframe tbody tr th {\n",
       "        vertical-align: top;\n",
       "    }\n",
       "\n",
       "    .dataframe thead th {\n",
       "        text-align: right;\n",
       "    }\n",
       "</style>\n",
       "<table border=\"1\" class=\"dataframe\">\n",
       "  <thead>\n",
       "    <tr style=\"text-align: right;\">\n",
       "      <th></th>\n",
       "      <th>city</th>\n",
       "      <th>date</th>\n",
       "      <th>rate</th>\n",
       "      <th>state</th>\n",
       "      <th>year</th>\n",
       "    </tr>\n",
       "  </thead>\n",
       "  <tbody>\n",
       "    <tr>\n",
       "      <th>8238</th>\n",
       "      <td>Hyderabad</td>\n",
       "      <td>2011-07-01</td>\n",
       "      <td>45.08</td>\n",
       "      <td>Telangana</td>\n",
       "      <td>2011</td>\n",
       "    </tr>\n",
       "    <tr>\n",
       "      <th>8239</th>\n",
       "      <td>Hyderabad</td>\n",
       "      <td>2012-07-25</td>\n",
       "      <td>44.94</td>\n",
       "      <td>Telangana</td>\n",
       "      <td>2012</td>\n",
       "    </tr>\n",
       "    <tr>\n",
       "      <th>8240</th>\n",
       "      <td>Hyderabad</td>\n",
       "      <td>2012-08-01</td>\n",
       "      <td>45.06</td>\n",
       "      <td>Telangana</td>\n",
       "      <td>2012</td>\n",
       "    </tr>\n",
       "    <tr>\n",
       "      <th>8241</th>\n",
       "      <td>Hyderabad</td>\n",
       "      <td>2012-09-14</td>\n",
       "      <td>51.17</td>\n",
       "      <td>Telangana</td>\n",
       "      <td>2012</td>\n",
       "    </tr>\n",
       "    <tr>\n",
       "      <th>8242</th>\n",
       "      <td>Hyderabad</td>\n",
       "      <td>2012-10-27</td>\n",
       "      <td>51.35</td>\n",
       "      <td>Telangana</td>\n",
       "      <td>2012</td>\n",
       "    </tr>\n",
       "    <tr>\n",
       "      <th>...</th>\n",
       "      <td>...</td>\n",
       "      <td>...</td>\n",
       "      <td>...</td>\n",
       "      <td>...</td>\n",
       "      <td>...</td>\n",
       "    </tr>\n",
       "    <tr>\n",
       "      <th>14532</th>\n",
       "      <td>Nizamabad</td>\n",
       "      <td>2020-12-27</td>\n",
       "      <td>82.06</td>\n",
       "      <td>Telangana</td>\n",
       "      <td>2020</td>\n",
       "    </tr>\n",
       "    <tr>\n",
       "      <th>14533</th>\n",
       "      <td>Nizamabad</td>\n",
       "      <td>2020-12-28</td>\n",
       "      <td>82.06</td>\n",
       "      <td>Telangana</td>\n",
       "      <td>2020</td>\n",
       "    </tr>\n",
       "    <tr>\n",
       "      <th>14534</th>\n",
       "      <td>Nizamabad</td>\n",
       "      <td>2020-12-29</td>\n",
       "      <td>82.06</td>\n",
       "      <td>Telangana</td>\n",
       "      <td>2020</td>\n",
       "    </tr>\n",
       "    <tr>\n",
       "      <th>14535</th>\n",
       "      <td>Nizamabad</td>\n",
       "      <td>2020-12-30</td>\n",
       "      <td>82.06</td>\n",
       "      <td>Telangana</td>\n",
       "      <td>2020</td>\n",
       "    </tr>\n",
       "    <tr>\n",
       "      <th>14536</th>\n",
       "      <td>Nizamabad</td>\n",
       "      <td>2020-12-31</td>\n",
       "      <td>82.06</td>\n",
       "      <td>Telangana</td>\n",
       "      <td>2020</td>\n",
       "    </tr>\n",
       "  </tbody>\n",
       "</table>\n",
       "<p>1849 rows × 5 columns</p>\n",
       "</div>"
      ],
      "text/plain": [
       "            city       date   rate      state  year\n",
       "8238   Hyderabad 2011-07-01  45.08  Telangana  2011\n",
       "8239   Hyderabad 2012-07-25  44.94  Telangana  2012\n",
       "8240   Hyderabad 2012-08-01  45.06  Telangana  2012\n",
       "8241   Hyderabad 2012-09-14  51.17  Telangana  2012\n",
       "8242   Hyderabad 2012-10-27  51.35  Telangana  2012\n",
       "...          ...        ...    ...        ...   ...\n",
       "14532  Nizamabad 2020-12-27  82.06  Telangana  2020\n",
       "14533  Nizamabad 2020-12-28  82.06  Telangana  2020\n",
       "14534  Nizamabad 2020-12-29  82.06  Telangana  2020\n",
       "14535  Nizamabad 2020-12-30  82.06  Telangana  2020\n",
       "14536  Nizamabad 2020-12-31  82.06  Telangana  2020\n",
       "\n",
       "[1849 rows x 5 columns]"
      ]
     },
     "execution_count": 37,
     "metadata": {},
     "output_type": "execute_result"
    }
   ],
   "source": [
    "Telengana=d[d[\"state\"]==\"Telangana\"]\n",
    "Telengana"
   ]
  },
  {
   "cell_type": "code",
   "execution_count": 38,
   "metadata": {},
   "outputs": [
    {
     "data": {
      "text/plain": [
       "array(['Hyderabad', 'Nizamabad'], dtype=object)"
      ]
     },
     "execution_count": 38,
     "metadata": {},
     "output_type": "execute_result"
    }
   ],
   "source": [
    "Telengana.city.unique()"
   ]
  },
  {
   "cell_type": "code",
   "execution_count": 39,
   "metadata": {},
   "outputs": [
    {
     "data": {
      "text/plain": [
       "date\n",
       "2011-07-01    45.08\n",
       "2012-07-25    44.94\n",
       "2012-08-01    45.06\n",
       "2012-09-14    51.17\n",
       "2012-10-27    51.35\n",
       "              ...  \n",
       "2020-12-27    82.06\n",
       "2020-12-28    82.06\n",
       "2020-12-29    82.06\n",
       "2020-12-30    82.06\n",
       "2020-12-31    82.06\n",
       "Name: rate, Length: 1128, dtype: float64"
      ]
     },
     "execution_count": 39,
     "metadata": {},
     "output_type": "execute_result"
    }
   ],
   "source": [
    "telng_date_max=Telengana.groupby(['date'])['rate'].max()\n",
    "telng_date_max"
   ]
  },
  {
   "cell_type": "code",
   "execution_count": 40,
   "metadata": {},
   "outputs": [
    {
     "data": {
      "text/html": [
       "<div>\n",
       "<style scoped>\n",
       "    .dataframe tbody tr th:only-of-type {\n",
       "        vertical-align: middle;\n",
       "    }\n",
       "\n",
       "    .dataframe tbody tr th {\n",
       "        vertical-align: top;\n",
       "    }\n",
       "\n",
       "    .dataframe thead th {\n",
       "        text-align: right;\n",
       "    }\n",
       "</style>\n",
       "<table border=\"1\" class=\"dataframe\">\n",
       "  <thead>\n",
       "    <tr style=\"text-align: right;\">\n",
       "      <th></th>\n",
       "      <th>rate</th>\n",
       "    </tr>\n",
       "    <tr>\n",
       "      <th>date</th>\n",
       "      <th></th>\n",
       "    </tr>\n",
       "  </thead>\n",
       "  <tbody>\n",
       "    <tr>\n",
       "      <th>2011-07-01</th>\n",
       "      <td>45.08</td>\n",
       "    </tr>\n",
       "    <tr>\n",
       "      <th>2012-07-25</th>\n",
       "      <td>44.94</td>\n",
       "    </tr>\n",
       "    <tr>\n",
       "      <th>2012-08-01</th>\n",
       "      <td>45.06</td>\n",
       "    </tr>\n",
       "    <tr>\n",
       "      <th>2012-09-14</th>\n",
       "      <td>51.17</td>\n",
       "    </tr>\n",
       "    <tr>\n",
       "      <th>2012-10-27</th>\n",
       "      <td>51.35</td>\n",
       "    </tr>\n",
       "    <tr>\n",
       "      <th>...</th>\n",
       "      <td>...</td>\n",
       "    </tr>\n",
       "    <tr>\n",
       "      <th>2020-12-27</th>\n",
       "      <td>82.06</td>\n",
       "    </tr>\n",
       "    <tr>\n",
       "      <th>2020-12-28</th>\n",
       "      <td>82.06</td>\n",
       "    </tr>\n",
       "    <tr>\n",
       "      <th>2020-12-29</th>\n",
       "      <td>82.06</td>\n",
       "    </tr>\n",
       "    <tr>\n",
       "      <th>2020-12-30</th>\n",
       "      <td>82.06</td>\n",
       "    </tr>\n",
       "    <tr>\n",
       "      <th>2020-12-31</th>\n",
       "      <td>82.06</td>\n",
       "    </tr>\n",
       "  </tbody>\n",
       "</table>\n",
       "<p>1128 rows × 1 columns</p>\n",
       "</div>"
      ],
      "text/plain": [
       "             rate\n",
       "date             \n",
       "2011-07-01  45.08\n",
       "2012-07-25  44.94\n",
       "2012-08-01  45.06\n",
       "2012-09-14  51.17\n",
       "2012-10-27  51.35\n",
       "...           ...\n",
       "2020-12-27  82.06\n",
       "2020-12-28  82.06\n",
       "2020-12-29  82.06\n",
       "2020-12-30  82.06\n",
       "2020-12-31  82.06\n",
       "\n",
       "[1128 rows x 1 columns]"
      ]
     },
     "execution_count": 40,
     "metadata": {},
     "output_type": "execute_result"
    }
   ],
   "source": [
    "telengDF=pd.DataFrame(telng_date_max)\n",
    "telengDF"
   ]
  },
  {
   "cell_type": "code",
   "execution_count": 41,
   "metadata": {},
   "outputs": [
    {
     "data": {
      "text/html": [
       "<div>\n",
       "<style scoped>\n",
       "    .dataframe tbody tr th:only-of-type {\n",
       "        vertical-align: middle;\n",
       "    }\n",
       "\n",
       "    .dataframe tbody tr th {\n",
       "        vertical-align: top;\n",
       "    }\n",
       "\n",
       "    .dataframe thead th {\n",
       "        text-align: right;\n",
       "    }\n",
       "</style>\n",
       "<table border=\"1\" class=\"dataframe\">\n",
       "  <thead>\n",
       "    <tr style=\"text-align: right;\">\n",
       "      <th></th>\n",
       "      <th>rate</th>\n",
       "    </tr>\n",
       "    <tr>\n",
       "      <th>date</th>\n",
       "      <th></th>\n",
       "    </tr>\n",
       "  </thead>\n",
       "  <tbody>\n",
       "    <tr>\n",
       "      <th>2018-10-16</th>\n",
       "      <td>83.36</td>\n",
       "    </tr>\n",
       "    <tr>\n",
       "      <th>2018-10-18</th>\n",
       "      <td>83.24</td>\n",
       "    </tr>\n",
       "    <tr>\n",
       "      <th>2018-10-19</th>\n",
       "      <td>83.13</td>\n",
       "    </tr>\n",
       "    <tr>\n",
       "      <th>2018-10-15</th>\n",
       "      <td>83.11</td>\n",
       "    </tr>\n",
       "    <tr>\n",
       "      <th>2018-10-04</th>\n",
       "      <td>83.10</td>\n",
       "    </tr>\n",
       "    <tr>\n",
       "      <th>...</th>\n",
       "      <td>...</td>\n",
       "    </tr>\n",
       "    <tr>\n",
       "      <th>2016-01-15</th>\n",
       "      <td>48.18</td>\n",
       "    </tr>\n",
       "    <tr>\n",
       "      <th>2016-02-01</th>\n",
       "      <td>48.14</td>\n",
       "    </tr>\n",
       "    <tr>\n",
       "      <th>2011-07-01</th>\n",
       "      <td>45.08</td>\n",
       "    </tr>\n",
       "    <tr>\n",
       "      <th>2012-08-01</th>\n",
       "      <td>45.06</td>\n",
       "    </tr>\n",
       "    <tr>\n",
       "      <th>2012-07-25</th>\n",
       "      <td>44.94</td>\n",
       "    </tr>\n",
       "  </tbody>\n",
       "</table>\n",
       "<p>1128 rows × 1 columns</p>\n",
       "</div>"
      ],
      "text/plain": [
       "             rate\n",
       "date             \n",
       "2018-10-16  83.36\n",
       "2018-10-18  83.24\n",
       "2018-10-19  83.13\n",
       "2018-10-15  83.11\n",
       "2018-10-04  83.10\n",
       "...           ...\n",
       "2016-01-15  48.18\n",
       "2016-02-01  48.14\n",
       "2011-07-01  45.08\n",
       "2012-08-01  45.06\n",
       "2012-07-25  44.94\n",
       "\n",
       "[1128 rows x 1 columns]"
      ]
     },
     "execution_count": 41,
     "metadata": {},
     "output_type": "execute_result"
    }
   ],
   "source": [
    "tDF=telengDF.sort_values('rate',ascending=False)\n",
    "tDF"
   ]
  },
  {
   "cell_type": "markdown",
   "metadata": {},
   "source": [
    "### In Telangana,highest diesel rate is 83.36 on 16-10-2018.\n",
    "### And the lowest diesel rate is 44.94 on 25-07-2012."
   ]
  },
  {
   "cell_type": "markdown",
   "metadata": {},
   "source": [
    "### KDE Plot to show the distibution of diesel rate "
   ]
  },
  {
   "cell_type": "code",
   "execution_count": 42,
   "metadata": {},
   "outputs": [
    {
     "data": {
      "image/png": "[encoded data removed]",
      "text/plain": [
       "<Figure size 432x288 with 1 Axes>"
      ]
     },
     "metadata": {
      "needs_background": "light"
     },
     "output_type": "display_data"
    }
   ],
   "source": [
    "sns.kdeplot(d['rate'],color='blue',shade=True)\n",
    "plt.show()"
   ]
  },
  {
   "cell_type": "markdown",
   "metadata": {},
   "source": [
    "### KDE Plot to show the distribution of diesel rate against date "
   ]
  },
  {
   "cell_type": "code",
   "execution_count": 43,
   "metadata": {},
   "outputs": [
    {
     "data": {
      "image/png": "[encoded data removed]",
      "text/plain": [
       "<Figure size 432x288 with 1 Axes>"
      ]
     },
     "metadata": {
      "needs_background": "light"
     },
     "output_type": "display_data"
    }
   ],
   "source": [
    "sns.kdeplot(d['rate'],d['date'],color='green',shade=True)\n",
    "plt.show()"
   ]
  },
  {
   "cell_type": "markdown",
   "metadata": {},
   "source": [
    "### Pairplot showing relationship between diesel rate, year and state "
   ]
  },
  {
   "cell_type": "code",
   "execution_count": 44,
   "metadata": {},
   "outputs": [
    {
     "data": {
      "image/png": "[encoded data removed]",
      "text/plain": [
       "<Figure size 464.75x360 with 6 Axes>"
      ]
     },
     "metadata": {
      "needs_background": "light"
     },
     "output_type": "display_data"
    }
   ],
   "source": [
    "sns.pairplot(d,hue='state')\n",
    "plt.show()"
   ]
  },
  {
   "cell_type": "markdown",
   "metadata": {},
   "source": [
    "### Swarmplot for diesel rate and year "
   ]
  },
  {
   "cell_type": "code",
   "execution_count": 45,
   "metadata": {},
   "outputs": [
    {
     "data": {
      "image/png": "[encoded data removed]",
      "text/plain": [
       "<Figure size 1080x360 with 1 Axes>"
      ]
     },
     "metadata": {
      "needs_background": "light"
     },
     "output_type": "display_data"
    }
   ],
   "source": [
    "plt.figure(figsize=(15,5))\n",
    "sns.swarmplot(x='year',y='rate',data=d)\n",
    "plt.show()"
   ]
  },
  {
   "cell_type": "markdown",
   "metadata": {},
   "source": [
    "### Heatmap showing the correlation of data "
   ]
  },
  {
   "cell_type": "code",
   "execution_count": 46,
   "metadata": {},
   "outputs": [
    {
     "data": {
      "image/png": "[encoded data removed]",
      "text/plain": [
       "<Figure size 720x360 with 2 Axes>"
      ]
     },
     "metadata": {
      "needs_background": "light"
     },
     "output_type": "display_data"
    }
   ],
   "source": [
    "plt.figure(figsize=(10,5))\n",
    "sns.heatmap(d.corr(), annot=True,linewidth=.5,center=0,cmap='coolwarm')\n",
    "plt.show()"
   ]
  },
  {
   "cell_type": "markdown",
   "metadata": {},
   "source": [
    "### Here from the heatmap correlation b/w year and rate is 0.7. So it is nicely correlated. "
   ]
  },
  {
   "cell_type": "markdown",
   "metadata": {},
   "source": [
    "### Distplot showing the distribution of diesel rate "
   ]
  },
  {
   "cell_type": "code",
   "execution_count": 47,
   "metadata": {},
   "outputs": [
    {
     "data": {
      "image/png": "[encoded data removed]",
      "text/plain": [
       "<Figure size 576x360 with 1 Axes>"
      ]
     },
     "metadata": {
      "needs_background": "light"
     },
     "output_type": "display_data"
    }
   ],
   "source": [
    "plt.figure(figsize=(8,5))\n",
    "sns.distplot(d.rate,bins=20,kde_kws={\"lw\":8,'color':'xkcd:pink'},hist_kws={'alpha':.3,'color':'blue'})\n",
    "plt.xlabel('Rate',fontsize=16,labelpad=15)\n",
    "plt.yticks([])\n",
    "plt.show()"
   ]
  },
  {
   "cell_type": "markdown",
   "metadata": {},
   "source": [
    "### Extracting the details for West Bengal"
   ]
  },
  {
   "cell_type": "code",
   "execution_count": 126,
   "metadata": {},
   "outputs": [
    {
     "data": {
      "text/html": [
       "<div>\n",
       "<style scoped>\n",
       "    .dataframe tbody tr th:only-of-type {\n",
       "        vertical-align: middle;\n",
       "    }\n",
       "\n",
       "    .dataframe tbody tr th {\n",
       "        vertical-align: top;\n",
       "    }\n",
       "\n",
       "    .dataframe thead th {\n",
       "        text-align: right;\n",
       "    }\n",
       "</style>\n",
       "<table border=\"1\" class=\"dataframe\">\n",
       "  <thead>\n",
       "    <tr style=\"text-align: right;\">\n",
       "      <th></th>\n",
       "      <th>city</th>\n",
       "      <th>date</th>\n",
       "      <th>rate</th>\n",
       "      <th>state</th>\n",
       "      <th>year</th>\n",
       "    </tr>\n",
       "  </thead>\n",
       "  <tbody>\n",
       "    <tr>\n",
       "      <th>13733</th>\n",
       "      <td>Nizamabad</td>\n",
       "      <td>2018-01-05</td>\n",
       "      <td>66.07</td>\n",
       "      <td>Telangana</td>\n",
       "      <td>2018</td>\n",
       "    </tr>\n",
       "    <tr>\n",
       "      <th>13749</th>\n",
       "      <td>Nizamabad</td>\n",
       "      <td>2018-01-08</td>\n",
       "      <td>66.66</td>\n",
       "      <td>Telangana</td>\n",
       "      <td>2018</td>\n",
       "    </tr>\n",
       "    <tr>\n",
       "      <th>13765</th>\n",
       "      <td>Nizamabad</td>\n",
       "      <td>2018-01-09</td>\n",
       "      <td>66.79</td>\n",
       "      <td>Telangana</td>\n",
       "      <td>2018</td>\n",
       "    </tr>\n",
       "    <tr>\n",
       "      <th>13781</th>\n",
       "      <td>Nizamabad</td>\n",
       "      <td>2018-01-10</td>\n",
       "      <td>66.93</td>\n",
       "      <td>Telangana</td>\n",
       "      <td>2018</td>\n",
       "    </tr>\n",
       "    <tr>\n",
       "      <th>13797</th>\n",
       "      <td>Nizamabad</td>\n",
       "      <td>2018-01-11</td>\n",
       "      <td>67.13</td>\n",
       "      <td>Telangana</td>\n",
       "      <td>2018</td>\n",
       "    </tr>\n",
       "    <tr>\n",
       "      <th>...</th>\n",
       "      <td>...</td>\n",
       "      <td>...</td>\n",
       "      <td>...</td>\n",
       "      <td>...</td>\n",
       "      <td>...</td>\n",
       "    </tr>\n",
       "    <tr>\n",
       "      <th>14532</th>\n",
       "      <td>Nizamabad</td>\n",
       "      <td>2020-12-27</td>\n",
       "      <td>82.06</td>\n",
       "      <td>Telangana</td>\n",
       "      <td>2020</td>\n",
       "    </tr>\n",
       "    <tr>\n",
       "      <th>14533</th>\n",
       "      <td>Nizamabad</td>\n",
       "      <td>2020-12-28</td>\n",
       "      <td>82.06</td>\n",
       "      <td>Telangana</td>\n",
       "      <td>2020</td>\n",
       "    </tr>\n",
       "    <tr>\n",
       "      <th>14534</th>\n",
       "      <td>Nizamabad</td>\n",
       "      <td>2020-12-29</td>\n",
       "      <td>82.06</td>\n",
       "      <td>Telangana</td>\n",
       "      <td>2020</td>\n",
       "    </tr>\n",
       "    <tr>\n",
       "      <th>14535</th>\n",
       "      <td>Nizamabad</td>\n",
       "      <td>2020-12-30</td>\n",
       "      <td>82.06</td>\n",
       "      <td>Telangana</td>\n",
       "      <td>2020</td>\n",
       "    </tr>\n",
       "    <tr>\n",
       "      <th>14536</th>\n",
       "      <td>Nizamabad</td>\n",
       "      <td>2020-12-31</td>\n",
       "      <td>82.06</td>\n",
       "      <td>Telangana</td>\n",
       "      <td>2020</td>\n",
       "    </tr>\n",
       "  </tbody>\n",
       "</table>\n",
       "<p>734 rows × 5 columns</p>\n",
       "</div>"
      ],
      "text/plain": [
       "            city       date   rate      state  year\n",
       "13733  Nizamabad 2018-01-05  66.07  Telangana  2018\n",
       "13749  Nizamabad 2018-01-08  66.66  Telangana  2018\n",
       "13765  Nizamabad 2018-01-09  66.79  Telangana  2018\n",
       "13781  Nizamabad 2018-01-10  66.93  Telangana  2018\n",
       "13797  Nizamabad 2018-01-11  67.13  Telangana  2018\n",
       "...          ...        ...    ...        ...   ...\n",
       "14532  Nizamabad 2020-12-27  82.06  Telangana  2020\n",
       "14533  Nizamabad 2020-12-28  82.06  Telangana  2020\n",
       "14534  Nizamabad 2020-12-29  82.06  Telangana  2020\n",
       "14535  Nizamabad 2020-12-30  82.06  Telangana  2020\n",
       "14536  Nizamabad 2020-12-31  82.06  Telangana  2020\n",
       "\n",
       "[734 rows x 5 columns]"
      ]
     },
     "execution_count": 126,
     "metadata": {},
     "output_type": "execute_result"
    }
   ],
   "source": [
    "Nizamabad=d[d['city']=='Nizamabad']\n",
    "Nizamabad"
   ]
  },
  {
   "cell_type": "code",
   "execution_count": 127,
   "metadata": {},
   "outputs": [
    {
     "data": {
      "text/plain": [
       "69.06    82\n",
       "78.26    49\n",
       "82.06    25\n",
       "81.43    21\n",
       "81.61    18\n",
       "         ..\n",
       "72.67     1\n",
       "72.26     1\n",
       "72.65     1\n",
       "70.39     1\n",
       "74.79     1\n",
       "Name: rate, Length: 396, dtype: int64"
      ]
     },
     "execution_count": 127,
     "metadata": {},
     "output_type": "execute_result"
    }
   ],
   "source": [
    "Nizamabad.rate.value_counts()"
   ]
  },
  {
   "cell_type": "code",
   "execution_count": 128,
   "metadata": {},
   "outputs": [
    {
     "data": {
      "text/html": [
       "<div>\n",
       "<style scoped>\n",
       "    .dataframe tbody tr th:only-of-type {\n",
       "        vertical-align: middle;\n",
       "    }\n",
       "\n",
       "    .dataframe tbody tr th {\n",
       "        vertical-align: top;\n",
       "    }\n",
       "\n",
       "    .dataframe thead th {\n",
       "        text-align: right;\n",
       "    }\n",
       "</style>\n",
       "<table border=\"1\" class=\"dataframe\">\n",
       "  <thead>\n",
       "    <tr style=\"text-align: right;\">\n",
       "      <th></th>\n",
       "      <th>city</th>\n",
       "      <th>date</th>\n",
       "      <th>rate</th>\n",
       "      <th>state</th>\n",
       "      <th>year</th>\n",
       "    </tr>\n",
       "  </thead>\n",
       "  <tbody>\n",
       "    <tr>\n",
       "      <th>13949</th>\n",
       "      <td>Nizamabad</td>\n",
       "      <td>2018-10-16</td>\n",
       "      <td>83.36</td>\n",
       "      <td>Telangana</td>\n",
       "      <td>2018</td>\n",
       "    </tr>\n",
       "    <tr>\n",
       "      <th>13950</th>\n",
       "      <td>Nizamabad</td>\n",
       "      <td>2018-10-18</td>\n",
       "      <td>83.24</td>\n",
       "      <td>Telangana</td>\n",
       "      <td>2018</td>\n",
       "    </tr>\n",
       "    <tr>\n",
       "      <th>13951</th>\n",
       "      <td>Nizamabad</td>\n",
       "      <td>2018-10-19</td>\n",
       "      <td>83.13</td>\n",
       "      <td>Telangana</td>\n",
       "      <td>2018</td>\n",
       "    </tr>\n",
       "    <tr>\n",
       "      <th>13948</th>\n",
       "      <td>Nizamabad</td>\n",
       "      <td>2018-10-15</td>\n",
       "      <td>83.11</td>\n",
       "      <td>Telangana</td>\n",
       "      <td>2018</td>\n",
       "    </tr>\n",
       "    <tr>\n",
       "      <th>13937</th>\n",
       "      <td>Nizamabad</td>\n",
       "      <td>2018-10-04</td>\n",
       "      <td>83.10</td>\n",
       "      <td>Telangana</td>\n",
       "      <td>2018</td>\n",
       "    </tr>\n",
       "    <tr>\n",
       "      <th>...</th>\n",
       "      <td>...</td>\n",
       "      <td>...</td>\n",
       "      <td>...</td>\n",
       "      <td>...</td>\n",
       "      <td>...</td>\n",
       "    </tr>\n",
       "    <tr>\n",
       "      <th>13797</th>\n",
       "      <td>Nizamabad</td>\n",
       "      <td>2018-01-11</td>\n",
       "      <td>67.13</td>\n",
       "      <td>Telangana</td>\n",
       "      <td>2018</td>\n",
       "    </tr>\n",
       "    <tr>\n",
       "      <th>13781</th>\n",
       "      <td>Nizamabad</td>\n",
       "      <td>2018-01-10</td>\n",
       "      <td>66.93</td>\n",
       "      <td>Telangana</td>\n",
       "      <td>2018</td>\n",
       "    </tr>\n",
       "    <tr>\n",
       "      <th>13765</th>\n",
       "      <td>Nizamabad</td>\n",
       "      <td>2018-01-09</td>\n",
       "      <td>66.79</td>\n",
       "      <td>Telangana</td>\n",
       "      <td>2018</td>\n",
       "    </tr>\n",
       "    <tr>\n",
       "      <th>13749</th>\n",
       "      <td>Nizamabad</td>\n",
       "      <td>2018-01-08</td>\n",
       "      <td>66.66</td>\n",
       "      <td>Telangana</td>\n",
       "      <td>2018</td>\n",
       "    </tr>\n",
       "    <tr>\n",
       "      <th>13733</th>\n",
       "      <td>Nizamabad</td>\n",
       "      <td>2018-01-05</td>\n",
       "      <td>66.07</td>\n",
       "      <td>Telangana</td>\n",
       "      <td>2018</td>\n",
       "    </tr>\n",
       "  </tbody>\n",
       "</table>\n",
       "<p>734 rows × 5 columns</p>\n",
       "</div>"
      ],
      "text/plain": [
       "            city       date   rate      state  year\n",
       "13949  Nizamabad 2018-10-16  83.36  Telangana  2018\n",
       "13950  Nizamabad 2018-10-18  83.24  Telangana  2018\n",
       "13951  Nizamabad 2018-10-19  83.13  Telangana  2018\n",
       "13948  Nizamabad 2018-10-15  83.11  Telangana  2018\n",
       "13937  Nizamabad 2018-10-04  83.10  Telangana  2018\n",
       "...          ...        ...    ...        ...   ...\n",
       "13797  Nizamabad 2018-01-11  67.13  Telangana  2018\n",
       "13781  Nizamabad 2018-01-10  66.93  Telangana  2018\n",
       "13765  Nizamabad 2018-01-09  66.79  Telangana  2018\n",
       "13749  Nizamabad 2018-01-08  66.66  Telangana  2018\n",
       "13733  Nizamabad 2018-01-05  66.07  Telangana  2018\n",
       "\n",
       "[734 rows x 5 columns]"
      ]
     },
     "execution_count": 128,
     "metadata": {},
     "output_type": "execute_result"
    }
   ],
   "source": [
    "Nizamabad.sort_values(by=\"rate\",ascending=False)"
   ]
  },
  {
   "cell_type": "markdown",
   "metadata": {},
   "source": [
    "### Checking the missing values"
   ]
  },
  {
   "cell_type": "code",
   "execution_count": 129,
   "metadata": {},
   "outputs": [
    {
     "data": {
      "text/plain": [
       "city     0\n",
       "date     0\n",
       "rate     0\n",
       "state    0\n",
       "year     0\n",
       "dtype: int64"
      ]
     },
     "execution_count": 129,
     "metadata": {},
     "output_type": "execute_result"
    }
   ],
   "source": [
    "Nizamabad.isnull().sum()"
   ]
  },
  {
   "cell_type": "code",
   "execution_count": 136,
   "metadata": {},
   "outputs": [
    {
     "data": {
      "text/html": [
       "<div>\n",
       "<style scoped>\n",
       "    .dataframe tbody tr th:only-of-type {\n",
       "        vertical-align: middle;\n",
       "    }\n",
       "\n",
       "    .dataframe tbody tr th {\n",
       "        vertical-align: top;\n",
       "    }\n",
       "\n",
       "    .dataframe thead th {\n",
       "        text-align: right;\n",
       "    }\n",
       "</style>\n",
       "<table border=\"1\" class=\"dataframe\">\n",
       "  <thead>\n",
       "    <tr style=\"text-align: right;\">\n",
       "      <th></th>\n",
       "      <th>rate</th>\n",
       "      <th>year</th>\n",
       "    </tr>\n",
       "  </thead>\n",
       "  <tbody>\n",
       "    <tr>\n",
       "      <th>count</th>\n",
       "      <td>734.000000</td>\n",
       "      <td>734.000000</td>\n",
       "    </tr>\n",
       "    <tr>\n",
       "      <th>mean</th>\n",
       "      <td>74.894019</td>\n",
       "      <td>2019.216621</td>\n",
       "    </tr>\n",
       "    <tr>\n",
       "      <th>std</th>\n",
       "      <td>4.464085</td>\n",
       "      <td>0.842718</td>\n",
       "    </tr>\n",
       "    <tr>\n",
       "      <th>min</th>\n",
       "      <td>66.070000</td>\n",
       "      <td>2018.000000</td>\n",
       "    </tr>\n",
       "    <tr>\n",
       "      <th>25%</th>\n",
       "      <td>71.390000</td>\n",
       "      <td>2018.000000</td>\n",
       "    </tr>\n",
       "    <tr>\n",
       "      <th>50%</th>\n",
       "      <td>73.845000</td>\n",
       "      <td>2019.000000</td>\n",
       "    </tr>\n",
       "    <tr>\n",
       "      <th>75%</th>\n",
       "      <td>78.777500</td>\n",
       "      <td>2020.000000</td>\n",
       "    </tr>\n",
       "    <tr>\n",
       "      <th>max</th>\n",
       "      <td>83.360000</td>\n",
       "      <td>2020.000000</td>\n",
       "    </tr>\n",
       "  </tbody>\n",
       "</table>\n",
       "</div>"
      ],
      "text/plain": [
       "             rate         year\n",
       "count  734.000000   734.000000\n",
       "mean    74.894019  2019.216621\n",
       "std      4.464085     0.842718\n",
       "min     66.070000  2018.000000\n",
       "25%     71.390000  2018.000000\n",
       "50%     73.845000  2019.000000\n",
       "75%     78.777500  2020.000000\n",
       "max     83.360000  2020.000000"
      ]
     },
     "execution_count": 136,
     "metadata": {},
     "output_type": "execute_result"
    }
   ],
   "source": [
    "Nizamabad.describe()"
   ]
  },
  {
   "cell_type": "code",
   "execution_count": null,
   "metadata": {},
   "outputs": [],
   "source": []
  },
  {
   "cell_type": "code",
   "execution_count": null,
   "metadata": {},
   "outputs": [],
   "source": []
  },
  {
   "cell_type": "code",
   "execution_count": null,
   "metadata": {},
   "outputs": [],
   "source": []
  },
  {
   "cell_type": "code",
   "execution_count": null,
   "metadata": {},
   "outputs": [],
   "source": []
  },
  {
   "cell_type": "markdown",
   "metadata": {},
   "source": [
    "# Monthly prediction"
   ]
  },
  {
   "cell_type": "markdown",
   "metadata": {},
   "source": [
    "### Month wise maximum values of Nizamabad"
   ]
  },
  {
   "cell_type": "code",
   "execution_count": 140,
   "metadata": {},
   "outputs": [
    {
     "name": "stdout",
     "output_type": "stream",
     "text": [
      "                 city   rate      state  year\n",
      "date                                         \n",
      "2018-01-31  Nizamabad  70.38  Telangana  2018\n",
      "2018-02-28  Nizamabad  70.62  Telangana  2018\n",
      "2018-03-31  Nizamabad  70.61  Telangana  2018\n",
      "2018-04-30  Nizamabad  72.54  Telangana  2018\n",
      "2018-05-31  Nizamabad  76.30  Telangana  2018\n",
      "2018-06-30  Nizamabad  76.18  Telangana  2018\n",
      "2018-07-31  Nizamabad  75.39  Telangana  2018\n",
      "2018-08-31  Nizamabad  77.40  Telangana  2018\n",
      "2018-09-30  Nizamabad  82.42  Telangana  2018\n",
      "2018-10-31  Nizamabad  83.36  Telangana  2018\n",
      "2018-11-30  Nizamabad  81.26  Telangana  2018\n",
      "2018-12-31  Nizamabad  74.32  Telangana  2018\n",
      "2019-01-31  Nizamabad  72.86  Telangana  2019\n",
      "2019-02-28  Nizamabad  73.92  Telangana  2019\n",
      "2019-03-31  Nizamabad  74.65  Telangana  2019\n",
      "2019-04-30  Nizamabad  73.66  Telangana  2019\n",
      "2019-05-31  Nizamabad  73.57  Telangana  2019\n",
      "2019-06-30  Nizamabad  73.36  Telangana  2019\n",
      "2019-07-31  Nizamabad  73.73  Telangana  2019\n",
      "2019-08-31  Nizamabad  73.00  Telangana  2019\n",
      "2019-09-30  Nizamabad  74.49  Telangana  2019\n",
      "2019-10-31  Nizamabad  74.69  Telangana  2019\n",
      "2019-11-30  Nizamabad  72.91  Telangana  2019\n",
      "2019-12-31  Nizamabad  75.18  Telangana  2019\n",
      "2020-01-31  Nizamabad  76.51  Telangana  2020\n",
      "2020-02-29  Nizamabad  73.25  Telangana  2020\n",
      "2020-03-31  Nizamabad  71.25  Telangana  2020\n",
      "2020-04-30  Nizamabad  69.06  Telangana  2020\n",
      "2020-05-31  Nizamabad  69.06  Telangana  2020\n",
      "2020-06-30  Nizamabad  79.92  Telangana  2020\n",
      "2020-07-31  Nizamabad  81.43  Telangana  2020\n",
      "2020-08-31  Nizamabad  81.61  Telangana  2020\n",
      "2020-09-30  Nizamabad  81.61  Telangana  2020\n",
      "2020-10-31  Nizamabad  78.35  Telangana  2020\n",
      "2020-11-30  Nizamabad  80.49  Telangana  2020\n",
      "2020-12-31  Nizamabad  82.06  Telangana  2020\n"
     ]
    }
   ],
   "source": [
    "mnz=Nizamabad.copy()\n",
    "nz_month=mnz\n",
    "nz_month.set_index('date',inplace=True)\n",
    "nz_month.index = pd.to_datetime(nz_month.index,format='%Y-%m-%d')\n",
    "nz_month=nz_month.resample('M').max()\n",
    "print(nz_month)"
   ]
  },
  {
   "cell_type": "markdown",
   "metadata": {},
   "source": [
    "### Shape of the data"
   ]
  },
  {
   "cell_type": "code",
   "execution_count": 141,
   "metadata": {},
   "outputs": [
    {
     "data": {
      "text/plain": [
       "(36, 4)"
      ]
     },
     "execution_count": 141,
     "metadata": {},
     "output_type": "execute_result"
    }
   ],
   "source": [
    "nz_month.shape"
   ]
  },
  {
   "cell_type": "markdown",
   "metadata": {},
   "source": [
    "### To check is there any missing values  in Nizamabad monthly data"
   ]
  },
  {
   "cell_type": "code",
   "execution_count": 142,
   "metadata": {},
   "outputs": [
    {
     "data": {
      "text/plain": [
       "city     0\n",
       "rate     0\n",
       "state    0\n",
       "year     0\n",
       "dtype: int64"
      ]
     },
     "execution_count": 142,
     "metadata": {},
     "output_type": "execute_result"
    }
   ],
   "source": [
    "nz_month.isnull().sum()"
   ]
  },
  {
   "cell_type": "markdown",
   "metadata": {},
   "source": [
    " There are no missing values\n"
   ]
  },
  {
   "cell_type": "markdown",
   "metadata": {},
   "source": [
    "### Creating a list of numbers from 1 to 36"
   ]
  },
  {
   "cell_type": "code",
   "execution_count": 158,
   "metadata": {},
   "outputs": [],
   "source": [
    "x_list=[]\n",
    "for i in range(1,37):\n",
    "    x_list.append(i)\n",
    "x_nz=np.array(x_list)"
   ]
  },
  {
   "cell_type": "markdown",
   "metadata": {},
   "source": [
    "### Printing values"
   ]
  },
  {
   "cell_type": "code",
   "execution_count": 159,
   "metadata": {},
   "outputs": [
    {
     "name": "stdout",
     "output_type": "stream",
     "text": [
      "[ 1  2  3  4  5  6  7  8  9 10 11 12 13 14 15 16 17 18 19 20 21 22 23 24\n",
      " 25 26 27 28 29 30 31 32 33 34 35 36]\n"
     ]
    }
   ],
   "source": [
    "print(x_nz)"
   ]
  },
  {
   "cell_type": "code",
   "execution_count": null,
   "metadata": {},
   "outputs": [],
   "source": []
  },
  {
   "cell_type": "code",
   "execution_count": 160,
   "metadata": {},
   "outputs": [],
   "source": [
    "y_list=nz_month['rate']\n",
    "y_nz=np.array(y_list)"
   ]
  },
  {
   "cell_type": "code",
   "execution_count": null,
   "metadata": {},
   "outputs": [],
   "source": []
  },
  {
   "cell_type": "code",
   "execution_count": 161,
   "metadata": {},
   "outputs": [
    {
     "name": "stdout",
     "output_type": "stream",
     "text": [
      "[70.38 70.62 70.61 72.54 76.3  76.18 75.39 77.4  82.42 83.36 81.26 74.32\n",
      " 72.86 73.92 74.65 73.66 73.57 73.36 73.73 73.   74.49 74.69 72.91 75.18\n",
      " 76.51 73.25 71.25 69.06 69.06 79.92 81.43 81.61 81.61 78.35 80.49 82.06]\n"
     ]
    }
   ],
   "source": [
    "print(y_nz)"
   ]
  },
  {
   "cell_type": "code",
   "execution_count": 162,
   "metadata": {},
   "outputs": [
    {
     "data": {
      "text/html": [
       "<div>\n",
       "<style scoped>\n",
       "    .dataframe tbody tr th:only-of-type {\n",
       "        vertical-align: middle;\n",
       "    }\n",
       "\n",
       "    .dataframe tbody tr th {\n",
       "        vertical-align: top;\n",
       "    }\n",
       "\n",
       "    .dataframe thead th {\n",
       "        text-align: right;\n",
       "    }\n",
       "</style>\n",
       "<table border=\"1\" class=\"dataframe\">\n",
       "  <thead>\n",
       "    <tr style=\"text-align: right;\">\n",
       "      <th></th>\n",
       "      <th>months</th>\n",
       "      <th>rate</th>\n",
       "    </tr>\n",
       "  </thead>\n",
       "  <tbody>\n",
       "    <tr>\n",
       "      <th>0</th>\n",
       "      <td>1</td>\n",
       "      <td>70.38</td>\n",
       "    </tr>\n",
       "    <tr>\n",
       "      <th>1</th>\n",
       "      <td>2</td>\n",
       "      <td>70.62</td>\n",
       "    </tr>\n",
       "    <tr>\n",
       "      <th>2</th>\n",
       "      <td>3</td>\n",
       "      <td>70.61</td>\n",
       "    </tr>\n",
       "    <tr>\n",
       "      <th>3</th>\n",
       "      <td>4</td>\n",
       "      <td>72.54</td>\n",
       "    </tr>\n",
       "    <tr>\n",
       "      <th>4</th>\n",
       "      <td>5</td>\n",
       "      <td>76.30</td>\n",
       "    </tr>\n",
       "    <tr>\n",
       "      <th>5</th>\n",
       "      <td>6</td>\n",
       "      <td>76.18</td>\n",
       "    </tr>\n",
       "    <tr>\n",
       "      <th>6</th>\n",
       "      <td>7</td>\n",
       "      <td>75.39</td>\n",
       "    </tr>\n",
       "    <tr>\n",
       "      <th>7</th>\n",
       "      <td>8</td>\n",
       "      <td>77.40</td>\n",
       "    </tr>\n",
       "    <tr>\n",
       "      <th>8</th>\n",
       "      <td>9</td>\n",
       "      <td>82.42</td>\n",
       "    </tr>\n",
       "    <tr>\n",
       "      <th>9</th>\n",
       "      <td>10</td>\n",
       "      <td>83.36</td>\n",
       "    </tr>\n",
       "    <tr>\n",
       "      <th>10</th>\n",
       "      <td>11</td>\n",
       "      <td>81.26</td>\n",
       "    </tr>\n",
       "    <tr>\n",
       "      <th>11</th>\n",
       "      <td>12</td>\n",
       "      <td>74.32</td>\n",
       "    </tr>\n",
       "    <tr>\n",
       "      <th>12</th>\n",
       "      <td>13</td>\n",
       "      <td>72.86</td>\n",
       "    </tr>\n",
       "    <tr>\n",
       "      <th>13</th>\n",
       "      <td>14</td>\n",
       "      <td>73.92</td>\n",
       "    </tr>\n",
       "    <tr>\n",
       "      <th>14</th>\n",
       "      <td>15</td>\n",
       "      <td>74.65</td>\n",
       "    </tr>\n",
       "    <tr>\n",
       "      <th>15</th>\n",
       "      <td>16</td>\n",
       "      <td>73.66</td>\n",
       "    </tr>\n",
       "    <tr>\n",
       "      <th>16</th>\n",
       "      <td>17</td>\n",
       "      <td>73.57</td>\n",
       "    </tr>\n",
       "    <tr>\n",
       "      <th>17</th>\n",
       "      <td>18</td>\n",
       "      <td>73.36</td>\n",
       "    </tr>\n",
       "    <tr>\n",
       "      <th>18</th>\n",
       "      <td>19</td>\n",
       "      <td>73.73</td>\n",
       "    </tr>\n",
       "    <tr>\n",
       "      <th>19</th>\n",
       "      <td>20</td>\n",
       "      <td>73.00</td>\n",
       "    </tr>\n",
       "    <tr>\n",
       "      <th>20</th>\n",
       "      <td>21</td>\n",
       "      <td>74.49</td>\n",
       "    </tr>\n",
       "    <tr>\n",
       "      <th>21</th>\n",
       "      <td>22</td>\n",
       "      <td>74.69</td>\n",
       "    </tr>\n",
       "    <tr>\n",
       "      <th>22</th>\n",
       "      <td>23</td>\n",
       "      <td>72.91</td>\n",
       "    </tr>\n",
       "    <tr>\n",
       "      <th>23</th>\n",
       "      <td>24</td>\n",
       "      <td>75.18</td>\n",
       "    </tr>\n",
       "    <tr>\n",
       "      <th>24</th>\n",
       "      <td>25</td>\n",
       "      <td>76.51</td>\n",
       "    </tr>\n",
       "    <tr>\n",
       "      <th>25</th>\n",
       "      <td>26</td>\n",
       "      <td>73.25</td>\n",
       "    </tr>\n",
       "    <tr>\n",
       "      <th>26</th>\n",
       "      <td>27</td>\n",
       "      <td>71.25</td>\n",
       "    </tr>\n",
       "    <tr>\n",
       "      <th>27</th>\n",
       "      <td>28</td>\n",
       "      <td>69.06</td>\n",
       "    </tr>\n",
       "    <tr>\n",
       "      <th>28</th>\n",
       "      <td>29</td>\n",
       "      <td>69.06</td>\n",
       "    </tr>\n",
       "    <tr>\n",
       "      <th>29</th>\n",
       "      <td>30</td>\n",
       "      <td>79.92</td>\n",
       "    </tr>\n",
       "    <tr>\n",
       "      <th>30</th>\n",
       "      <td>31</td>\n",
       "      <td>81.43</td>\n",
       "    </tr>\n",
       "    <tr>\n",
       "      <th>31</th>\n",
       "      <td>32</td>\n",
       "      <td>81.61</td>\n",
       "    </tr>\n",
       "    <tr>\n",
       "      <th>32</th>\n",
       "      <td>33</td>\n",
       "      <td>81.61</td>\n",
       "    </tr>\n",
       "    <tr>\n",
       "      <th>33</th>\n",
       "      <td>34</td>\n",
       "      <td>78.35</td>\n",
       "    </tr>\n",
       "    <tr>\n",
       "      <th>34</th>\n",
       "      <td>35</td>\n",
       "      <td>80.49</td>\n",
       "    </tr>\n",
       "    <tr>\n",
       "      <th>35</th>\n",
       "      <td>36</td>\n",
       "      <td>82.06</td>\n",
       "    </tr>\n",
       "  </tbody>\n",
       "</table>\n",
       "</div>"
      ],
      "text/plain": [
       "    months   rate\n",
       "0        1  70.38\n",
       "1        2  70.62\n",
       "2        3  70.61\n",
       "3        4  72.54\n",
       "4        5  76.30\n",
       "5        6  76.18\n",
       "6        7  75.39\n",
       "7        8  77.40\n",
       "8        9  82.42\n",
       "9       10  83.36\n",
       "10      11  81.26\n",
       "11      12  74.32\n",
       "12      13  72.86\n",
       "13      14  73.92\n",
       "14      15  74.65\n",
       "15      16  73.66\n",
       "16      17  73.57\n",
       "17      18  73.36\n",
       "18      19  73.73\n",
       "19      20  73.00\n",
       "20      21  74.49\n",
       "21      22  74.69\n",
       "22      23  72.91\n",
       "23      24  75.18\n",
       "24      25  76.51\n",
       "25      26  73.25\n",
       "26      27  71.25\n",
       "27      28  69.06\n",
       "28      29  69.06\n",
       "29      30  79.92\n",
       "30      31  81.43\n",
       "31      32  81.61\n",
       "32      33  81.61\n",
       "33      34  78.35\n",
       "34      35  80.49\n",
       "35      36  82.06"
      ]
     },
     "execution_count": 162,
     "metadata": {},
     "output_type": "execute_result"
    }
   ],
   "source": [
    "datad={'months':x_nz,'rate':y_nz}\n",
    "diesel=pd.DataFrame(datad)\n",
    "diesel"
   ]
  },
  {
   "cell_type": "markdown",
   "metadata": {},
   "source": [
    "### Assigning required columns into x and y "
   ]
  },
  {
   "cell_type": "code",
   "execution_count": 163,
   "metadata": {},
   "outputs": [],
   "source": [
    "x1=diesel.iloc[:,:-1].values\n",
    "y1=diesel.iloc[:,1].values"
   ]
  },
  {
   "cell_type": "markdown",
   "metadata": {},
   "source": [
    "### Display elements and shape of data "
   ]
  },
  {
   "cell_type": "code",
   "execution_count": 164,
   "metadata": {},
   "outputs": [
    {
     "data": {
      "text/plain": [
       "array([[ 1],\n",
       "       [ 2],\n",
       "       [ 3],\n",
       "       [ 4],\n",
       "       [ 5],\n",
       "       [ 6],\n",
       "       [ 7],\n",
       "       [ 8],\n",
       "       [ 9],\n",
       "       [10],\n",
       "       [11],\n",
       "       [12],\n",
       "       [13],\n",
       "       [14],\n",
       "       [15],\n",
       "       [16],\n",
       "       [17],\n",
       "       [18],\n",
       "       [19],\n",
       "       [20],\n",
       "       [21],\n",
       "       [22],\n",
       "       [23],\n",
       "       [24],\n",
       "       [25],\n",
       "       [26],\n",
       "       [27],\n",
       "       [28],\n",
       "       [29],\n",
       "       [30],\n",
       "       [31],\n",
       "       [32],\n",
       "       [33],\n",
       "       [34],\n",
       "       [35],\n",
       "       [36]])"
      ]
     },
     "execution_count": 164,
     "metadata": {},
     "output_type": "execute_result"
    }
   ],
   "source": [
    "x1"
   ]
  },
  {
   "cell_type": "code",
   "execution_count": 165,
   "metadata": {},
   "outputs": [
    {
     "data": {
      "text/plain": [
       "(36, 1)"
      ]
     },
     "execution_count": 165,
     "metadata": {},
     "output_type": "execute_result"
    }
   ],
   "source": [
    "x1.shape # 2 dimensional array"
   ]
  },
  {
   "cell_type": "code",
   "execution_count": 166,
   "metadata": {},
   "outputs": [
    {
     "data": {
      "text/plain": [
       "array([70.38, 70.62, 70.61, 72.54, 76.3 , 76.18, 75.39, 77.4 , 82.42,\n",
       "       83.36, 81.26, 74.32, 72.86, 73.92, 74.65, 73.66, 73.57, 73.36,\n",
       "       73.73, 73.  , 74.49, 74.69, 72.91, 75.18, 76.51, 73.25, 71.25,\n",
       "       69.06, 69.06, 79.92, 81.43, 81.61, 81.61, 78.35, 80.49, 82.06])"
      ]
     },
     "execution_count": 166,
     "metadata": {},
     "output_type": "execute_result"
    }
   ],
   "source": [
    "y1 "
   ]
  },
  {
   "cell_type": "code",
   "execution_count": 167,
   "metadata": {},
   "outputs": [
    {
     "data": {
      "text/plain": [
       "(36,)"
      ]
     },
     "execution_count": 167,
     "metadata": {},
     "output_type": "execute_result"
    }
   ],
   "source": [
    "y1.shape # Single dimension"
   ]
  },
  {
   "cell_type": "markdown",
   "metadata": {},
   "source": [
    "### Perform the split into training/ testing set"
   ]
  },
  {
   "cell_type": "code",
   "execution_count": 311,
   "metadata": {},
   "outputs": [],
   "source": [
    "x_train,x_test,y_train,y_test=train_test_split(x1,y1,test_size=0.4,random_state=1)"
   ]
  },
  {
   "cell_type": "code",
   "execution_count": 313,
   "metadata": {},
   "outputs": [
    {
     "name": "stdout",
     "output_type": "stream",
     "text": [
      "(21, 1)\n",
      "(15, 1)\n",
      "(21,)\n",
      "(15,)\n"
     ]
    }
   ],
   "source": [
    "print(x_train.shape)\n",
    "print(x_test.shape)\n",
    "print(y_train.shape)\n",
    "print(y_test.shape)"
   ]
  },
  {
   "cell_type": "markdown",
   "metadata": {},
   "source": [
    "### Print the mean values "
   ]
  },
  {
   "cell_type": "code",
   "execution_count": 314,
   "metadata": {},
   "outputs": [
    {
     "name": "stdout",
     "output_type": "stream",
     "text": [
      "11.0\n",
      "8.0\n",
      "21.0\n",
      "15.0\n"
     ]
    }
   ],
   "source": [
    "print(np.mean(x_train.shape))\n",
    "print(np.mean(x_test.shape))\n",
    "print(np.mean(y_train.shape))\n",
    "print(np.mean(y_test.shape))"
   ]
  },
  {
   "cell_type": "markdown",
   "metadata": {},
   "source": [
    "### Create linear regression object "
   ]
  },
  {
   "cell_type": "code",
   "execution_count": 315,
   "metadata": {},
   "outputs": [
    {
     "name": "stdout",
     "output_type": "stream",
     "text": [
      "Train test complete\n"
     ]
    }
   ],
   "source": [
    "l=LinearRegression()\n",
    "l.fit(x_train,y_train) # Train the model using training sets\n",
    "print(\"Train test complete\")"
   ]
  },
  {
   "cell_type": "markdown",
   "metadata": {},
   "source": [
    "### Make predictions using the training set "
   ]
  },
  {
   "cell_type": "code",
   "execution_count": 316,
   "metadata": {},
   "outputs": [],
   "source": [
    "ym_pred=l.predict(x_test)"
   ]
  },
  {
   "cell_type": "markdown",
   "metadata": {},
   "source": [
    "### Dataframe for actual and predicted "
   ]
  },
  {
   "cell_type": "code",
   "execution_count": 317,
   "metadata": {},
   "outputs": [
    {
     "data": {
      "text/html": [
       "<div>\n",
       "<style scoped>\n",
       "    .dataframe tbody tr th:only-of-type {\n",
       "        vertical-align: middle;\n",
       "    }\n",
       "\n",
       "    .dataframe tbody tr th {\n",
       "        vertical-align: top;\n",
       "    }\n",
       "\n",
       "    .dataframe thead th {\n",
       "        text-align: right;\n",
       "    }\n",
       "</style>\n",
       "<table border=\"1\" class=\"dataframe\">\n",
       "  <thead>\n",
       "    <tr style=\"text-align: right;\">\n",
       "      <th></th>\n",
       "      <th>Actual</th>\n",
       "      <th>Predicted</th>\n",
       "    </tr>\n",
       "  </thead>\n",
       "  <tbody>\n",
       "    <tr>\n",
       "      <th>0</th>\n",
       "      <td>81.43</td>\n",
       "      <td>79.350917</td>\n",
       "    </tr>\n",
       "    <tr>\n",
       "      <th>1</th>\n",
       "      <td>80.49</td>\n",
       "      <td>80.159771</td>\n",
       "    </tr>\n",
       "    <tr>\n",
       "      <th>2</th>\n",
       "      <td>69.06</td>\n",
       "      <td>78.946490</td>\n",
       "    </tr>\n",
       "    <tr>\n",
       "      <th>3</th>\n",
       "      <td>72.54</td>\n",
       "      <td>73.891151</td>\n",
       "    </tr>\n",
       "    <tr>\n",
       "      <th>4</th>\n",
       "      <td>73.00</td>\n",
       "      <td>77.126568</td>\n",
       "    </tr>\n",
       "    <tr>\n",
       "      <th>5</th>\n",
       "      <td>73.36</td>\n",
       "      <td>76.722140</td>\n",
       "    </tr>\n",
       "    <tr>\n",
       "      <th>6</th>\n",
       "      <td>74.69</td>\n",
       "      <td>77.530995</td>\n",
       "    </tr>\n",
       "    <tr>\n",
       "      <th>7</th>\n",
       "      <td>75.18</td>\n",
       "      <td>77.935422</td>\n",
       "    </tr>\n",
       "    <tr>\n",
       "      <th>8</th>\n",
       "      <td>79.92</td>\n",
       "      <td>79.148703</td>\n",
       "    </tr>\n",
       "    <tr>\n",
       "      <th>9</th>\n",
       "      <td>71.25</td>\n",
       "      <td>78.542062</td>\n",
       "    </tr>\n",
       "    <tr>\n",
       "      <th>10</th>\n",
       "      <td>69.06</td>\n",
       "      <td>78.744276</td>\n",
       "    </tr>\n",
       "    <tr>\n",
       "      <th>11</th>\n",
       "      <td>78.35</td>\n",
       "      <td>79.957557</td>\n",
       "    </tr>\n",
       "    <tr>\n",
       "      <th>12</th>\n",
       "      <td>76.51</td>\n",
       "      <td>78.137635</td>\n",
       "    </tr>\n",
       "    <tr>\n",
       "      <th>13</th>\n",
       "      <td>73.25</td>\n",
       "      <td>78.339849</td>\n",
       "    </tr>\n",
       "    <tr>\n",
       "      <th>14</th>\n",
       "      <td>76.30</td>\n",
       "      <td>74.093364</td>\n",
       "    </tr>\n",
       "  </tbody>\n",
       "</table>\n",
       "</div>"
      ],
      "text/plain": [
       "    Actual  Predicted\n",
       "0    81.43  79.350917\n",
       "1    80.49  80.159771\n",
       "2    69.06  78.946490\n",
       "3    72.54  73.891151\n",
       "4    73.00  77.126568\n",
       "5    73.36  76.722140\n",
       "6    74.69  77.530995\n",
       "7    75.18  77.935422\n",
       "8    79.92  79.148703\n",
       "9    71.25  78.542062\n",
       "10   69.06  78.744276\n",
       "11   78.35  79.957557\n",
       "12   76.51  78.137635\n",
       "13   73.25  78.339849\n",
       "14   76.30  74.093364"
      ]
     },
     "execution_count": 317,
     "metadata": {},
     "output_type": "execute_result"
    }
   ],
   "source": [
    "d1=pd.DataFrame({'Actual':y_test,'Predicted':ym_pred})\n",
    "d1"
   ]
  },
  {
   "cell_type": "markdown",
   "metadata": {},
   "source": [
    "### Mean absolute error "
   ]
  },
  {
   "cell_type": "code",
   "execution_count": 318,
   "metadata": {
    "scrolled": true
   },
   "outputs": [
    {
     "name": "stdout",
     "output_type": "stream",
     "text": [
      "mean absolute error 3.6674259887005625\n"
     ]
    }
   ],
   "source": [
    "print('mean absolute error',mean_absolute_error(y_test,ym_pred))"
   ]
  },
  {
   "cell_type": "markdown",
   "metadata": {},
   "source": [
    "### Regression plot "
   ]
  },
  {
   "cell_type": "code",
   "execution_count": 319,
   "metadata": {},
   "outputs": [
    {
     "data": {
      "image/png": "[encoded data removed]",
      "text/plain": [
       "<Figure size 432x288 with 1 Axes>"
      ]
     },
     "metadata": {
      "needs_background": "light"
     },
     "output_type": "display_data"
    }
   ],
   "source": [
    "sns.regplot(x=y_test,y=ym_pred)\n",
    "plt.title('Regression Plot',size=16)\n",
    "plt.ylabel('rate',size=14)\n",
    "plt.xlabel('year',size=15)\n",
    "plt.show()"
   ]
  },
  {
   "cell_type": "markdown",
   "metadata": {},
   "source": [
    "## Prediction of diesel price in the months of 2021 according to past data"
   ]
  },
  {
   "cell_type": "code",
   "execution_count": 320,
   "metadata": {},
   "outputs": [],
   "source": [
    "pred_rate=[]\n",
    "for i in range(37,49):\n",
    "    h=[i]\n",
    "    r=l.predict([h])\n",
    "    pred_rate.append(float(r))"
   ]
  },
  {
   "cell_type": "code",
   "execution_count": 321,
   "metadata": {},
   "outputs": [
    {
     "data": {
      "text/html": [
       "<div>\n",
       "<style scoped>\n",
       "    .dataframe tbody tr th:only-of-type {\n",
       "        vertical-align: middle;\n",
       "    }\n",
       "\n",
       "    .dataframe tbody tr th {\n",
       "        vertical-align: top;\n",
       "    }\n",
       "\n",
       "    .dataframe thead th {\n",
       "        text-align: right;\n",
       "    }\n",
       "</style>\n",
       "<table border=\"1\" class=\"dataframe\">\n",
       "  <thead>\n",
       "    <tr style=\"text-align: right;\">\n",
       "      <th></th>\n",
       "      <th>Months</th>\n",
       "      <th>Predicted rate</th>\n",
       "    </tr>\n",
       "  </thead>\n",
       "  <tbody>\n",
       "    <tr>\n",
       "      <th>0</th>\n",
       "      <td>2021-01-31</td>\n",
       "      <td>80.564198</td>\n",
       "    </tr>\n",
       "    <tr>\n",
       "      <th>1</th>\n",
       "      <td>2021-02-28</td>\n",
       "      <td>80.766412</td>\n",
       "    </tr>\n",
       "    <tr>\n",
       "      <th>2</th>\n",
       "      <td>2021-03-31</td>\n",
       "      <td>80.968625</td>\n",
       "    </tr>\n",
       "    <tr>\n",
       "      <th>3</th>\n",
       "      <td>2021-04-30</td>\n",
       "      <td>81.170839</td>\n",
       "    </tr>\n",
       "    <tr>\n",
       "      <th>4</th>\n",
       "      <td>2021-05-31</td>\n",
       "      <td>81.373052</td>\n",
       "    </tr>\n",
       "    <tr>\n",
       "      <th>5</th>\n",
       "      <td>2021-06-30</td>\n",
       "      <td>81.575266</td>\n",
       "    </tr>\n",
       "    <tr>\n",
       "      <th>6</th>\n",
       "      <td>2021-07-31</td>\n",
       "      <td>81.777479</td>\n",
       "    </tr>\n",
       "    <tr>\n",
       "      <th>7</th>\n",
       "      <td>2021-08-31</td>\n",
       "      <td>81.979693</td>\n",
       "    </tr>\n",
       "    <tr>\n",
       "      <th>8</th>\n",
       "      <td>2021-09-30</td>\n",
       "      <td>82.181907</td>\n",
       "    </tr>\n",
       "    <tr>\n",
       "      <th>9</th>\n",
       "      <td>2021-10-31</td>\n",
       "      <td>82.384120</td>\n",
       "    </tr>\n",
       "    <tr>\n",
       "      <th>10</th>\n",
       "      <td>2021-11-30</td>\n",
       "      <td>82.586334</td>\n",
       "    </tr>\n",
       "    <tr>\n",
       "      <th>11</th>\n",
       "      <td>2021-12-31</td>\n",
       "      <td>82.788547</td>\n",
       "    </tr>\n",
       "  </tbody>\n",
       "</table>\n",
       "</div>"
      ],
      "text/plain": [
       "       Months  Predicted rate\n",
       "0  2021-01-31       80.564198\n",
       "1  2021-02-28       80.766412\n",
       "2  2021-03-31       80.968625\n",
       "3  2021-04-30       81.170839\n",
       "4  2021-05-31       81.373052\n",
       "5  2021-06-30       81.575266\n",
       "6  2021-07-31       81.777479\n",
       "7  2021-08-31       81.979693\n",
       "8  2021-09-30       82.181907\n",
       "9  2021-10-31       82.384120\n",
       "10 2021-11-30       82.586334\n",
       "11 2021-12-31       82.788547"
      ]
     },
     "execution_count": 321,
     "metadata": {},
     "output_type": "execute_result"
    }
   ],
   "source": [
    "mnths=pd.date_range('2021-01-01',periods=12,freq='M')\n",
    "diesel_predict=pd.DataFrame({'Months':mnths,'Predicted rate':pred_rate})\n",
    "diesel_predict"
   ]
  },
  {
   "cell_type": "code",
   "execution_count": null,
   "metadata": {},
   "outputs": [],
   "source": []
  },
  {
   "cell_type": "code",
   "execution_count": null,
   "metadata": {},
   "outputs": [],
   "source": []
  },
  {
   "cell_type": "code",
   "execution_count": null,
   "metadata": {},
   "outputs": [],
   "source": []
  }
 ],
 "metadata": {
  "kernelspec": {
   "display_name": "Python 3",
   "language": "python",
   "name": "python3"
  },
  "language_info": {
   "codemirror_mode": {
    "name": "ipython",
    "version": 3
   },
   "file_extension": ".py",
   "mimetype": "text/x-python",
   "name": "python",
   "nbconvert_exporter": "python",
   "pygments_lexer": "ipython3",
   "version": "3.8.5"
  }
 },
 "nbformat": 4,
 "nbformat_minor": 5
}
